{
 "cells": [
  {
   "cell_type": "code",
   "execution_count": 1,
   "id": "7bc5766a",
   "metadata": {
    "_cell_guid": "b1076dfc-b9ad-4769-8c92-a6c4dae69d19",
    "_uuid": "8f2839f25d086af736a60e9eeb907d3b93b6e0e5",
    "execution": {
     "iopub.execute_input": "2024-06-05T07:38:20.258362Z",
     "iopub.status.busy": "2024-06-05T07:38:20.257677Z",
     "iopub.status.idle": "2024-06-05T07:38:21.001644Z",
     "shell.execute_reply": "2024-06-05T07:38:21.000692Z"
    },
    "papermill": {
     "duration": 0.762191,
     "end_time": "2024-06-05T07:38:21.004493",
     "exception": false,
     "start_time": "2024-06-05T07:38:20.242302",
     "status": "completed"
    },
    "tags": []
   },
   "outputs": [
    {
     "name": "stdout",
     "output_type": "stream",
     "text": [
      "/kaggle/input/titanic/train.csv\n",
      "/kaggle/input/titanic/test.csv\n",
      "/kaggle/input/titanic/gender_submission.csv\n"
     ]
    }
   ],
   "source": [
    "# This Python 3 environment comes with many helpful analytics libraries installed\n",
    "# It is defined by the kaggle/python Docker image: https://github.com/kaggle/docker-python\n",
    "# For example, here's several helpful packages to load\n",
    "\n",
    "import numpy as np # linear algebra\n",
    "import pandas as pd # data processing, CSV file I/O (e.g. pd.read_csv)\n",
    "\n",
    "# Input data files are available in the read-only \"../input/\" directory\n",
    "# For example, running this (by clicking run or pressing Shift+Enter) will list all files under the input directory\n",
    "\n",
    "import os\n",
    "for dirname, _, filenames in os.walk('/kaggle/input'):\n",
    "    for filename in filenames:\n",
    "        print(os.path.join(dirname, filename))\n",
    "\n",
    "# You can write up to 20GB to the current directory (/kaggle/working/) that gets preserved as output when you create a version using \"Save & Run All\" \n",
    "# You can also write temporary files to /kaggle/temp/, but they won't be saved outside of the current session"
   ]
  },
  {
   "cell_type": "code",
   "execution_count": 2,
   "id": "93434357",
   "metadata": {
    "execution": {
     "iopub.execute_input": "2024-06-05T07:38:21.033491Z",
     "iopub.status.busy": "2024-06-05T07:38:21.032520Z",
     "iopub.status.idle": "2024-06-05T07:38:21.037299Z",
     "shell.execute_reply": "2024-06-05T07:38:21.036404Z"
    },
    "papermill": {
     "duration": 0.020908,
     "end_time": "2024-06-05T07:38:21.039286",
     "exception": false,
     "start_time": "2024-06-05T07:38:21.018378",
     "status": "completed"
    },
    "tags": []
   },
   "outputs": [],
   "source": [
    "# Understanding the data\n",
    "# Histograms and boxplots\n",
    "# Value counts\n",
    "# Missing data\n",
    "# Correlation between the metrics\n",
    "# Explore interesting themes\n",
    "    # Wealthy survive\n",
    "    # By location\n",
    "    # Age scatterplot with ticket price\n",
    "    # Young and wealthy variable\n",
    "    # total spent\n",
    "# Feature Engineering\n",
    "# Preprocess data together or use a transformer\n",
    "    # Use label for train and test\n",
    "# Sclaing\n",
    "# Model baseline\n",
    "# Model comparision with CV"
   ]
  },
  {
   "cell_type": "code",
   "execution_count": 3,
   "id": "0c7c916c",
   "metadata": {
    "execution": {
     "iopub.execute_input": "2024-06-05T07:38:21.068390Z",
     "iopub.status.busy": "2024-06-05T07:38:21.067591Z",
     "iopub.status.idle": "2024-06-05T07:38:22.190662Z",
     "shell.execute_reply": "2024-06-05T07:38:22.189683Z"
    },
    "papermill": {
     "duration": 1.140025,
     "end_time": "2024-06-05T07:38:22.192912",
     "exception": false,
     "start_time": "2024-06-05T07:38:21.052887",
     "status": "completed"
    },
    "tags": []
   },
   "outputs": [
    {
     "data": {
      "text/plain": [
       "Index(['PassengerId', 'Survived', 'Pclass', 'Name', 'Sex', 'Age', 'SibSp',\n",
       "       'Parch', 'Ticket', 'Fare', 'Cabin', 'Embarked', 'train_test'],\n",
       "      dtype='object')"
      ]
     },
     "execution_count": 3,
     "metadata": {},
     "output_type": "execute_result"
    }
   ],
   "source": [
    "import numpy as np\n",
    "import pandas as pd\n",
    "import seaborn as sns\n",
    "import matplotlib.pyplot as plt\n",
    "\n",
    "training = pd.read_csv(\"/kaggle/input/titanic/train.csv\")\n",
    "test = pd.read_csv(\"/kaggle/input/titanic/test.csv\")\n",
    "\n",
    "training.head()\n",
    "training[\"train_test\"]=1\n",
    "test[\"train_test\"]=0\n",
    "test[\"Survived\"] = np.NaN\n",
    "all_data = pd.concat([training, test])\n",
    "%matplotlib inline\n",
    "all_data.columns"
   ]
  },
  {
   "cell_type": "code",
   "execution_count": 4,
   "id": "abf7a23e",
   "metadata": {
    "execution": {
     "iopub.execute_input": "2024-06-05T07:38:22.224509Z",
     "iopub.status.busy": "2024-06-05T07:38:22.223534Z",
     "iopub.status.idle": "2024-06-05T07:38:22.250300Z",
     "shell.execute_reply": "2024-06-05T07:38:22.249398Z"
    },
    "papermill": {
     "duration": 0.044461,
     "end_time": "2024-06-05T07:38:22.252309",
     "exception": false,
     "start_time": "2024-06-05T07:38:22.207848",
     "status": "completed"
    },
    "tags": []
   },
   "outputs": [
    {
     "data": {
      "text/html": [
       "<div>\n",
       "<style scoped>\n",
       "    .dataframe tbody tr th:only-of-type {\n",
       "        vertical-align: middle;\n",
       "    }\n",
       "\n",
       "    .dataframe tbody tr th {\n",
       "        vertical-align: top;\n",
       "    }\n",
       "\n",
       "    .dataframe thead th {\n",
       "        text-align: right;\n",
       "    }\n",
       "</style>\n",
       "<table border=\"1\" class=\"dataframe\">\n",
       "  <thead>\n",
       "    <tr style=\"text-align: right;\">\n",
       "      <th></th>\n",
       "      <th>PassengerId</th>\n",
       "      <th>Survived</th>\n",
       "      <th>Pclass</th>\n",
       "      <th>Name</th>\n",
       "      <th>Sex</th>\n",
       "      <th>Age</th>\n",
       "      <th>SibSp</th>\n",
       "      <th>Parch</th>\n",
       "      <th>Ticket</th>\n",
       "      <th>Fare</th>\n",
       "      <th>Cabin</th>\n",
       "      <th>Embarked</th>\n",
       "      <th>train_test</th>\n",
       "    </tr>\n",
       "  </thead>\n",
       "  <tbody>\n",
       "    <tr>\n",
       "      <th>0</th>\n",
       "      <td>1</td>\n",
       "      <td>0.0</td>\n",
       "      <td>3</td>\n",
       "      <td>Braund, Mr. Owen Harris</td>\n",
       "      <td>male</td>\n",
       "      <td>22.0</td>\n",
       "      <td>1</td>\n",
       "      <td>0</td>\n",
       "      <td>A/5 21171</td>\n",
       "      <td>7.2500</td>\n",
       "      <td>NaN</td>\n",
       "      <td>S</td>\n",
       "      <td>1</td>\n",
       "    </tr>\n",
       "    <tr>\n",
       "      <th>1</th>\n",
       "      <td>2</td>\n",
       "      <td>1.0</td>\n",
       "      <td>1</td>\n",
       "      <td>Cumings, Mrs. John Bradley (Florence Briggs Th...</td>\n",
       "      <td>female</td>\n",
       "      <td>38.0</td>\n",
       "      <td>1</td>\n",
       "      <td>0</td>\n",
       "      <td>PC 17599</td>\n",
       "      <td>71.2833</td>\n",
       "      <td>C85</td>\n",
       "      <td>C</td>\n",
       "      <td>1</td>\n",
       "    </tr>\n",
       "    <tr>\n",
       "      <th>2</th>\n",
       "      <td>3</td>\n",
       "      <td>1.0</td>\n",
       "      <td>3</td>\n",
       "      <td>Heikkinen, Miss. Laina</td>\n",
       "      <td>female</td>\n",
       "      <td>26.0</td>\n",
       "      <td>0</td>\n",
       "      <td>0</td>\n",
       "      <td>STON/O2. 3101282</td>\n",
       "      <td>7.9250</td>\n",
       "      <td>NaN</td>\n",
       "      <td>S</td>\n",
       "      <td>1</td>\n",
       "    </tr>\n",
       "    <tr>\n",
       "      <th>3</th>\n",
       "      <td>4</td>\n",
       "      <td>1.0</td>\n",
       "      <td>1</td>\n",
       "      <td>Futrelle, Mrs. Jacques Heath (Lily May Peel)</td>\n",
       "      <td>female</td>\n",
       "      <td>35.0</td>\n",
       "      <td>1</td>\n",
       "      <td>0</td>\n",
       "      <td>113803</td>\n",
       "      <td>53.1000</td>\n",
       "      <td>C123</td>\n",
       "      <td>S</td>\n",
       "      <td>1</td>\n",
       "    </tr>\n",
       "    <tr>\n",
       "      <th>4</th>\n",
       "      <td>5</td>\n",
       "      <td>0.0</td>\n",
       "      <td>3</td>\n",
       "      <td>Allen, Mr. William Henry</td>\n",
       "      <td>male</td>\n",
       "      <td>35.0</td>\n",
       "      <td>0</td>\n",
       "      <td>0</td>\n",
       "      <td>373450</td>\n",
       "      <td>8.0500</td>\n",
       "      <td>NaN</td>\n",
       "      <td>S</td>\n",
       "      <td>1</td>\n",
       "    </tr>\n",
       "    <tr>\n",
       "      <th>...</th>\n",
       "      <td>...</td>\n",
       "      <td>...</td>\n",
       "      <td>...</td>\n",
       "      <td>...</td>\n",
       "      <td>...</td>\n",
       "      <td>...</td>\n",
       "      <td>...</td>\n",
       "      <td>...</td>\n",
       "      <td>...</td>\n",
       "      <td>...</td>\n",
       "      <td>...</td>\n",
       "      <td>...</td>\n",
       "      <td>...</td>\n",
       "    </tr>\n",
       "    <tr>\n",
       "      <th>413</th>\n",
       "      <td>1305</td>\n",
       "      <td>NaN</td>\n",
       "      <td>3</td>\n",
       "      <td>Spector, Mr. Woolf</td>\n",
       "      <td>male</td>\n",
       "      <td>NaN</td>\n",
       "      <td>0</td>\n",
       "      <td>0</td>\n",
       "      <td>A.5. 3236</td>\n",
       "      <td>8.0500</td>\n",
       "      <td>NaN</td>\n",
       "      <td>S</td>\n",
       "      <td>0</td>\n",
       "    </tr>\n",
       "    <tr>\n",
       "      <th>414</th>\n",
       "      <td>1306</td>\n",
       "      <td>NaN</td>\n",
       "      <td>1</td>\n",
       "      <td>Oliva y Ocana, Dona. Fermina</td>\n",
       "      <td>female</td>\n",
       "      <td>39.0</td>\n",
       "      <td>0</td>\n",
       "      <td>0</td>\n",
       "      <td>PC 17758</td>\n",
       "      <td>108.9000</td>\n",
       "      <td>C105</td>\n",
       "      <td>C</td>\n",
       "      <td>0</td>\n",
       "    </tr>\n",
       "    <tr>\n",
       "      <th>415</th>\n",
       "      <td>1307</td>\n",
       "      <td>NaN</td>\n",
       "      <td>3</td>\n",
       "      <td>Saether, Mr. Simon Sivertsen</td>\n",
       "      <td>male</td>\n",
       "      <td>38.5</td>\n",
       "      <td>0</td>\n",
       "      <td>0</td>\n",
       "      <td>SOTON/O.Q. 3101262</td>\n",
       "      <td>7.2500</td>\n",
       "      <td>NaN</td>\n",
       "      <td>S</td>\n",
       "      <td>0</td>\n",
       "    </tr>\n",
       "    <tr>\n",
       "      <th>416</th>\n",
       "      <td>1308</td>\n",
       "      <td>NaN</td>\n",
       "      <td>3</td>\n",
       "      <td>Ware, Mr. Frederick</td>\n",
       "      <td>male</td>\n",
       "      <td>NaN</td>\n",
       "      <td>0</td>\n",
       "      <td>0</td>\n",
       "      <td>359309</td>\n",
       "      <td>8.0500</td>\n",
       "      <td>NaN</td>\n",
       "      <td>S</td>\n",
       "      <td>0</td>\n",
       "    </tr>\n",
       "    <tr>\n",
       "      <th>417</th>\n",
       "      <td>1309</td>\n",
       "      <td>NaN</td>\n",
       "      <td>3</td>\n",
       "      <td>Peter, Master. Michael J</td>\n",
       "      <td>male</td>\n",
       "      <td>NaN</td>\n",
       "      <td>1</td>\n",
       "      <td>1</td>\n",
       "      <td>2668</td>\n",
       "      <td>22.3583</td>\n",
       "      <td>NaN</td>\n",
       "      <td>C</td>\n",
       "      <td>0</td>\n",
       "    </tr>\n",
       "  </tbody>\n",
       "</table>\n",
       "<p>1309 rows × 13 columns</p>\n",
       "</div>"
      ],
      "text/plain": [
       "     PassengerId  Survived  Pclass  \\\n",
       "0              1       0.0       3   \n",
       "1              2       1.0       1   \n",
       "2              3       1.0       3   \n",
       "3              4       1.0       1   \n",
       "4              5       0.0       3   \n",
       "..           ...       ...     ...   \n",
       "413         1305       NaN       3   \n",
       "414         1306       NaN       1   \n",
       "415         1307       NaN       3   \n",
       "416         1308       NaN       3   \n",
       "417         1309       NaN       3   \n",
       "\n",
       "                                                  Name     Sex   Age  SibSp  \\\n",
       "0                              Braund, Mr. Owen Harris    male  22.0      1   \n",
       "1    Cumings, Mrs. John Bradley (Florence Briggs Th...  female  38.0      1   \n",
       "2                               Heikkinen, Miss. Laina  female  26.0      0   \n",
       "3         Futrelle, Mrs. Jacques Heath (Lily May Peel)  female  35.0      1   \n",
       "4                             Allen, Mr. William Henry    male  35.0      0   \n",
       "..                                                 ...     ...   ...    ...   \n",
       "413                                 Spector, Mr. Woolf    male   NaN      0   \n",
       "414                       Oliva y Ocana, Dona. Fermina  female  39.0      0   \n",
       "415                       Saether, Mr. Simon Sivertsen    male  38.5      0   \n",
       "416                                Ware, Mr. Frederick    male   NaN      0   \n",
       "417                           Peter, Master. Michael J    male   NaN      1   \n",
       "\n",
       "     Parch              Ticket      Fare Cabin Embarked  train_test  \n",
       "0        0           A/5 21171    7.2500   NaN        S           1  \n",
       "1        0            PC 17599   71.2833   C85        C           1  \n",
       "2        0    STON/O2. 3101282    7.9250   NaN        S           1  \n",
       "3        0              113803   53.1000  C123        S           1  \n",
       "4        0              373450    8.0500   NaN        S           1  \n",
       "..     ...                 ...       ...   ...      ...         ...  \n",
       "413      0           A.5. 3236    8.0500   NaN        S           0  \n",
       "414      0            PC 17758  108.9000  C105        C           0  \n",
       "415      0  SOTON/O.Q. 3101262    7.2500   NaN        S           0  \n",
       "416      0              359309    8.0500   NaN        S           0  \n",
       "417      1                2668   22.3583   NaN        C           0  \n",
       "\n",
       "[1309 rows x 13 columns]"
      ]
     },
     "execution_count": 4,
     "metadata": {},
     "output_type": "execute_result"
    }
   ],
   "source": [
    "all_data"
   ]
  },
  {
   "cell_type": "code",
   "execution_count": 5,
   "id": "f207b84a",
   "metadata": {
    "execution": {
     "iopub.execute_input": "2024-06-05T07:38:22.284552Z",
     "iopub.status.busy": "2024-06-05T07:38:22.283618Z",
     "iopub.status.idle": "2024-06-05T07:38:22.305295Z",
     "shell.execute_reply": "2024-06-05T07:38:22.304299Z"
    },
    "papermill": {
     "duration": 0.039625,
     "end_time": "2024-06-05T07:38:22.307448",
     "exception": false,
     "start_time": "2024-06-05T07:38:22.267823",
     "status": "completed"
    },
    "tags": []
   },
   "outputs": [
    {
     "name": "stdout",
     "output_type": "stream",
     "text": [
      "<class 'pandas.core.frame.DataFrame'>\n",
      "RangeIndex: 891 entries, 0 to 890\n",
      "Data columns (total 13 columns):\n",
      " #   Column       Non-Null Count  Dtype  \n",
      "---  ------       --------------  -----  \n",
      " 0   PassengerId  891 non-null    int64  \n",
      " 1   Survived     891 non-null    int64  \n",
      " 2   Pclass       891 non-null    int64  \n",
      " 3   Name         891 non-null    object \n",
      " 4   Sex          891 non-null    object \n",
      " 5   Age          714 non-null    float64\n",
      " 6   SibSp        891 non-null    int64  \n",
      " 7   Parch        891 non-null    int64  \n",
      " 8   Ticket       891 non-null    object \n",
      " 9   Fare         891 non-null    float64\n",
      " 10  Cabin        204 non-null    object \n",
      " 11  Embarked     889 non-null    object \n",
      " 12  train_test   891 non-null    int64  \n",
      "dtypes: float64(2), int64(6), object(5)\n",
      "memory usage: 90.6+ KB\n"
     ]
    }
   ],
   "source": [
    "training.info()"
   ]
  },
  {
   "cell_type": "code",
   "execution_count": 6,
   "id": "0af4bca9",
   "metadata": {
    "execution": {
     "iopub.execute_input": "2024-06-05T07:38:22.338930Z",
     "iopub.status.busy": "2024-06-05T07:38:22.338540Z",
     "iopub.status.idle": "2024-06-05T07:38:22.371280Z",
     "shell.execute_reply": "2024-06-05T07:38:22.370305Z"
    },
    "papermill": {
     "duration": 0.050826,
     "end_time": "2024-06-05T07:38:22.373590",
     "exception": false,
     "start_time": "2024-06-05T07:38:22.322764",
     "status": "completed"
    },
    "tags": []
   },
   "outputs": [
    {
     "data": {
      "text/html": [
       "<div>\n",
       "<style scoped>\n",
       "    .dataframe tbody tr th:only-of-type {\n",
       "        vertical-align: middle;\n",
       "    }\n",
       "\n",
       "    .dataframe tbody tr th {\n",
       "        vertical-align: top;\n",
       "    }\n",
       "\n",
       "    .dataframe thead th {\n",
       "        text-align: right;\n",
       "    }\n",
       "</style>\n",
       "<table border=\"1\" class=\"dataframe\">\n",
       "  <thead>\n",
       "    <tr style=\"text-align: right;\">\n",
       "      <th></th>\n",
       "      <th>PassengerId</th>\n",
       "      <th>Survived</th>\n",
       "      <th>Pclass</th>\n",
       "      <th>Age</th>\n",
       "      <th>SibSp</th>\n",
       "      <th>Parch</th>\n",
       "      <th>Fare</th>\n",
       "      <th>train_test</th>\n",
       "    </tr>\n",
       "  </thead>\n",
       "  <tbody>\n",
       "    <tr>\n",
       "      <th>count</th>\n",
       "      <td>891.000000</td>\n",
       "      <td>891.000000</td>\n",
       "      <td>891.000000</td>\n",
       "      <td>714.000000</td>\n",
       "      <td>891.000000</td>\n",
       "      <td>891.000000</td>\n",
       "      <td>891.000000</td>\n",
       "      <td>891.0</td>\n",
       "    </tr>\n",
       "    <tr>\n",
       "      <th>mean</th>\n",
       "      <td>446.000000</td>\n",
       "      <td>0.383838</td>\n",
       "      <td>2.308642</td>\n",
       "      <td>29.699118</td>\n",
       "      <td>0.523008</td>\n",
       "      <td>0.381594</td>\n",
       "      <td>32.204208</td>\n",
       "      <td>1.0</td>\n",
       "    </tr>\n",
       "    <tr>\n",
       "      <th>std</th>\n",
       "      <td>257.353842</td>\n",
       "      <td>0.486592</td>\n",
       "      <td>0.836071</td>\n",
       "      <td>14.526497</td>\n",
       "      <td>1.102743</td>\n",
       "      <td>0.806057</td>\n",
       "      <td>49.693429</td>\n",
       "      <td>0.0</td>\n",
       "    </tr>\n",
       "    <tr>\n",
       "      <th>min</th>\n",
       "      <td>1.000000</td>\n",
       "      <td>0.000000</td>\n",
       "      <td>1.000000</td>\n",
       "      <td>0.420000</td>\n",
       "      <td>0.000000</td>\n",
       "      <td>0.000000</td>\n",
       "      <td>0.000000</td>\n",
       "      <td>1.0</td>\n",
       "    </tr>\n",
       "    <tr>\n",
       "      <th>25%</th>\n",
       "      <td>223.500000</td>\n",
       "      <td>0.000000</td>\n",
       "      <td>2.000000</td>\n",
       "      <td>20.125000</td>\n",
       "      <td>0.000000</td>\n",
       "      <td>0.000000</td>\n",
       "      <td>7.910400</td>\n",
       "      <td>1.0</td>\n",
       "    </tr>\n",
       "    <tr>\n",
       "      <th>50%</th>\n",
       "      <td>446.000000</td>\n",
       "      <td>0.000000</td>\n",
       "      <td>3.000000</td>\n",
       "      <td>28.000000</td>\n",
       "      <td>0.000000</td>\n",
       "      <td>0.000000</td>\n",
       "      <td>14.454200</td>\n",
       "      <td>1.0</td>\n",
       "    </tr>\n",
       "    <tr>\n",
       "      <th>75%</th>\n",
       "      <td>668.500000</td>\n",
       "      <td>1.000000</td>\n",
       "      <td>3.000000</td>\n",
       "      <td>38.000000</td>\n",
       "      <td>1.000000</td>\n",
       "      <td>0.000000</td>\n",
       "      <td>31.000000</td>\n",
       "      <td>1.0</td>\n",
       "    </tr>\n",
       "    <tr>\n",
       "      <th>max</th>\n",
       "      <td>891.000000</td>\n",
       "      <td>1.000000</td>\n",
       "      <td>3.000000</td>\n",
       "      <td>80.000000</td>\n",
       "      <td>8.000000</td>\n",
       "      <td>6.000000</td>\n",
       "      <td>512.329200</td>\n",
       "      <td>1.0</td>\n",
       "    </tr>\n",
       "  </tbody>\n",
       "</table>\n",
       "</div>"
      ],
      "text/plain": [
       "       PassengerId    Survived      Pclass         Age       SibSp  \\\n",
       "count   891.000000  891.000000  891.000000  714.000000  891.000000   \n",
       "mean    446.000000    0.383838    2.308642   29.699118    0.523008   \n",
       "std     257.353842    0.486592    0.836071   14.526497    1.102743   \n",
       "min       1.000000    0.000000    1.000000    0.420000    0.000000   \n",
       "25%     223.500000    0.000000    2.000000   20.125000    0.000000   \n",
       "50%     446.000000    0.000000    3.000000   28.000000    0.000000   \n",
       "75%     668.500000    1.000000    3.000000   38.000000    1.000000   \n",
       "max     891.000000    1.000000    3.000000   80.000000    8.000000   \n",
       "\n",
       "            Parch        Fare  train_test  \n",
       "count  891.000000  891.000000       891.0  \n",
       "mean     0.381594   32.204208         1.0  \n",
       "std      0.806057   49.693429         0.0  \n",
       "min      0.000000    0.000000         1.0  \n",
       "25%      0.000000    7.910400         1.0  \n",
       "50%      0.000000   14.454200         1.0  \n",
       "75%      0.000000   31.000000         1.0  \n",
       "max      6.000000  512.329200         1.0  "
      ]
     },
     "execution_count": 6,
     "metadata": {},
     "output_type": "execute_result"
    }
   ],
   "source": [
    "training.describe()"
   ]
  },
  {
   "cell_type": "code",
   "execution_count": 7,
   "id": "c4ee08e4",
   "metadata": {
    "execution": {
     "iopub.execute_input": "2024-06-05T07:38:22.405207Z",
     "iopub.status.busy": "2024-06-05T07:38:22.404867Z",
     "iopub.status.idle": "2024-06-05T07:38:22.411026Z",
     "shell.execute_reply": "2024-06-05T07:38:22.410143Z"
    },
    "papermill": {
     "duration": 0.024202,
     "end_time": "2024-06-05T07:38:22.413035",
     "exception": false,
     "start_time": "2024-06-05T07:38:22.388833",
     "status": "completed"
    },
    "tags": []
   },
   "outputs": [],
   "source": [
    "# Split the data into numeric variable and categorical variables\n",
    "df_num = training[[\"Age\", \"SibSp\", \"Parch\", \"Fare\"]]\n",
    "df_cat = training[[\"Survived\", \"Pclass\", \"Sex\", \"Ticket\", \"Cabin\", \"Embarked\"]]"
   ]
  },
  {
   "cell_type": "code",
   "execution_count": 8,
   "id": "38e24ebf",
   "metadata": {
    "execution": {
     "iopub.execute_input": "2024-06-05T07:38:22.446123Z",
     "iopub.status.busy": "2024-06-05T07:38:22.445280Z",
     "iopub.status.idle": "2024-06-05T07:38:23.631888Z",
     "shell.execute_reply": "2024-06-05T07:38:23.630865Z"
    },
    "papermill": {
     "duration": 1.205752,
     "end_time": "2024-06-05T07:38:23.634145",
     "exception": false,
     "start_time": "2024-06-05T07:38:22.428393",
     "status": "completed"
    },
    "tags": []
   },
   "outputs": [
    {
     "data": {
      "image/png": "[encoded data removed]",
      "text/plain": [
       "<Figure size 640x480 with 1 Axes>"
      ]
     },
     "metadata": {},
     "output_type": "display_data"
    },
    {
     "data": {
      "image/png": "[encoded data removed]",
      "text/plain": [
       "<Figure size 640x480 with 1 Axes>"
      ]
     },
     "metadata": {},
     "output_type": "display_data"
    },
    {
     "data": {
      "image/png": "[encoded data removed]",
      "text/plain": [
       "<Figure size 640x480 with 1 Axes>"
      ]
     },
     "metadata": {},
     "output_type": "display_data"
    },
    {
     "data": {
      "image/png": "[encoded data removed]",
      "text/plain": [
       "<Figure size 640x480 with 1 Axes>"
      ]
     },
     "metadata": {},
     "output_type": "display_data"
    }
   ],
   "source": [
    "for i in df_num.columns:\n",
    "    plt.hist(df_num[i])\n",
    "    plt.title(i)\n",
    "    plt.show()"
   ]
  },
  {
   "cell_type": "markdown",
   "id": "cd81db04",
   "metadata": {
    "papermill": {
     "duration": 0.017072,
     "end_time": "2024-06-05T07:38:23.668091",
     "exception": false,
     "start_time": "2024-06-05T07:38:23.651019",
     "status": "completed"
    },
    "tags": []
   },
   "source": [
    "####  Data Exploration\n",
    "1. For numerical data:\n",
    "- Histograms to understand the distributions\n",
    "- Corrplot\n",
    "- Pivot table comparing survival rate across numeric variables\n",
    "\n",
    "2. Categorical data\n",
    "- Frequency.count plots to understand the distribution\n",
    "- Made pivot table to understand thhe relationship with survival"
   ]
  },
  {
   "cell_type": "code",
   "execution_count": 9,
   "id": "12aeb83e",
   "metadata": {
    "execution": {
     "iopub.execute_input": "2024-06-05T07:38:23.705134Z",
     "iopub.status.busy": "2024-06-05T07:38:23.704776Z",
     "iopub.status.idle": "2024-06-05T07:38:24.025336Z",
     "shell.execute_reply": "2024-06-05T07:38:24.024055Z"
    },
    "papermill": {
     "duration": 0.341664,
     "end_time": "2024-06-05T07:38:24.027613",
     "exception": false,
     "start_time": "2024-06-05T07:38:23.685949",
     "status": "completed"
    },
    "tags": []
   },
   "outputs": [
    {
     "name": "stdout",
     "output_type": "stream",
     "text": [
      "            Age     SibSp     Parch      Fare\n",
      "Age    1.000000 -0.308247 -0.189119  0.096067\n",
      "SibSp -0.308247  1.000000  0.414838  0.159651\n",
      "Parch -0.189119  0.414838  1.000000  0.216225\n",
      "Fare   0.096067  0.159651  0.216225  1.000000\n"
     ]
    },
    {
     "data": {
      "text/plain": [
       "<Axes: >"
      ]
     },
     "execution_count": 9,
     "metadata": {},
     "output_type": "execute_result"
    },
    {
     "data": {
      "image/png": "[encoded data removed]",
      "text/plain": [
       "<Figure size 640x480 with 2 Axes>"
      ]
     },
     "metadata": {},
     "output_type": "display_data"
    }
   ],
   "source": [
    "print(df_num.corr())\n",
    "sns.heatmap(df_num.corr())"
   ]
  },
  {
   "cell_type": "markdown",
   "id": "61caff78",
   "metadata": {
    "papermill": {
     "duration": 0.016812,
     "end_time": "2024-06-05T07:38:24.062225",
     "exception": false,
     "start_time": "2024-06-05T07:38:24.045413",
     "status": "completed"
    },
    "tags": []
   },
   "source": [
    "We can consider removing the highly negatively or strongly positive correlated features if we were solving regression problem"
   ]
  },
  {
   "cell_type": "code",
   "execution_count": 10,
   "id": "303292bb",
   "metadata": {
    "execution": {
     "iopub.execute_input": "2024-06-05T07:38:24.099280Z",
     "iopub.status.busy": "2024-06-05T07:38:24.098367Z",
     "iopub.status.idle": "2024-06-05T07:38:24.117209Z",
     "shell.execute_reply": "2024-06-05T07:38:24.116171Z"
    },
    "papermill": {
     "duration": 0.040033,
     "end_time": "2024-06-05T07:38:24.119555",
     "exception": false,
     "start_time": "2024-06-05T07:38:24.079522",
     "status": "completed"
    },
    "tags": []
   },
   "outputs": [
    {
     "data": {
      "text/html": [
       "<div>\n",
       "<style scoped>\n",
       "    .dataframe tbody tr th:only-of-type {\n",
       "        vertical-align: middle;\n",
       "    }\n",
       "\n",
       "    .dataframe tbody tr th {\n",
       "        vertical-align: top;\n",
       "    }\n",
       "\n",
       "    .dataframe thead th {\n",
       "        text-align: right;\n",
       "    }\n",
       "</style>\n",
       "<table border=\"1\" class=\"dataframe\">\n",
       "  <thead>\n",
       "    <tr style=\"text-align: right;\">\n",
       "      <th></th>\n",
       "      <th>Age</th>\n",
       "      <th>Fare</th>\n",
       "      <th>Parch</th>\n",
       "      <th>SibSp</th>\n",
       "    </tr>\n",
       "    <tr>\n",
       "      <th>Survived</th>\n",
       "      <th></th>\n",
       "      <th></th>\n",
       "      <th></th>\n",
       "      <th></th>\n",
       "    </tr>\n",
       "  </thead>\n",
       "  <tbody>\n",
       "    <tr>\n",
       "      <th>0</th>\n",
       "      <td>30.626179</td>\n",
       "      <td>22.117887</td>\n",
       "      <td>0.329690</td>\n",
       "      <td>0.553734</td>\n",
       "    </tr>\n",
       "    <tr>\n",
       "      <th>1</th>\n",
       "      <td>28.343690</td>\n",
       "      <td>48.395408</td>\n",
       "      <td>0.464912</td>\n",
       "      <td>0.473684</td>\n",
       "    </tr>\n",
       "  </tbody>\n",
       "</table>\n",
       "</div>"
      ],
      "text/plain": [
       "                Age       Fare     Parch     SibSp\n",
       "Survived                                          \n",
       "0         30.626179  22.117887  0.329690  0.553734\n",
       "1         28.343690  48.395408  0.464912  0.473684"
      ]
     },
     "execution_count": 10,
     "metadata": {},
     "output_type": "execute_result"
    }
   ],
   "source": [
    "pd.pivot_table(training, index='Survived', values=[\"Age\",\"SibSp\", \"Parch\", \"Fare\"])"
   ]
  },
  {
   "cell_type": "code",
   "execution_count": 11,
   "id": "8ff7843c",
   "metadata": {
    "execution": {
     "iopub.execute_input": "2024-06-05T07:38:24.157555Z",
     "iopub.status.busy": "2024-06-05T07:38:24.156666Z",
     "iopub.status.idle": "2024-06-05T07:38:32.639310Z",
     "shell.execute_reply": "2024-06-05T07:38:32.638257Z"
    },
    "papermill": {
     "duration": 8.504437,
     "end_time": "2024-06-05T07:38:32.641916",
     "exception": false,
     "start_time": "2024-06-05T07:38:24.137479",
     "status": "completed"
    },
    "tags": []
   },
   "outputs": [
    {
     "data": {
      "image/png": "[encoded data removed]",
      "text/plain": [
       "<Figure size 640x480 with 1 Axes>"
      ]
     },
     "metadata": {},
     "output_type": "display_data"
    },
    {
     "data": {
      "image/png": "[encoded data removed]",
      "text/plain": [
       "<Figure size 640x480 with 1 Axes>"
      ]
     },
     "metadata": {},
     "output_type": "display_data"
    },
    {
     "data": {
      "image/png": "[encoded data removed]",
      "text/plain": [
       "<Figure size 640x480 with 1 Axes>"
      ]
     },
     "metadata": {},
     "output_type": "display_data"
    },
    {
     "data": {
      "image/png": "[encoded data removed]",
      "text/plain": [
       "<Figure size 640x480 with 1 Axes>"
      ]
     },
     "metadata": {},
     "output_type": "display_data"
    },
    {
     "data": {
      "image/png": "[encoded data removed]",
      "text/plain": [
       "<Figure size 640x480 with 1 Axes>"
      ]
     },
     "metadata": {},
     "output_type": "display_data"
    },
    {
     "data": {
      "image/png": "[encoded data removed]",
      "text/plain": [
       "<Figure size 640x480 with 1 Axes>"
      ]
     },
     "metadata": {},
     "output_type": "display_data"
    }
   ],
   "source": [
    "for i in df_cat.columns:\n",
    "    sns.barplot(x = df_cat[i].value_counts().index, y=df_cat[i].value_counts().values).set_title(i)\n",
    "    plt.show()"
   ]
  },
  {
   "cell_type": "code",
   "execution_count": 12,
   "id": "b23f9dc1",
   "metadata": {
    "execution": {
     "iopub.execute_input": "2024-06-05T07:38:32.685506Z",
     "iopub.status.busy": "2024-06-05T07:38:32.684262Z",
     "iopub.status.idle": "2024-06-05T07:38:32.701228Z",
     "shell.execute_reply": "2024-06-05T07:38:32.699957Z"
    },
    "papermill": {
     "duration": 0.041103,
     "end_time": "2024-06-05T07:38:32.703650",
     "exception": false,
     "start_time": "2024-06-05T07:38:32.662547",
     "status": "completed"
    },
    "tags": []
   },
   "outputs": [
    {
     "data": {
      "text/html": [
       "<div>\n",
       "<style scoped>\n",
       "    .dataframe tbody tr th:only-of-type {\n",
       "        vertical-align: middle;\n",
       "    }\n",
       "\n",
       "    .dataframe tbody tr th {\n",
       "        vertical-align: top;\n",
       "    }\n",
       "\n",
       "    .dataframe thead th {\n",
       "        text-align: right;\n",
       "    }\n",
       "</style>\n",
       "<table border=\"1\" class=\"dataframe\">\n",
       "  <thead>\n",
       "    <tr style=\"text-align: right;\">\n",
       "      <th></th>\n",
       "      <th>PassengerId</th>\n",
       "      <th>Survived</th>\n",
       "      <th>Pclass</th>\n",
       "      <th>Name</th>\n",
       "      <th>Sex</th>\n",
       "      <th>Age</th>\n",
       "      <th>SibSp</th>\n",
       "      <th>Parch</th>\n",
       "      <th>Ticket</th>\n",
       "      <th>Fare</th>\n",
       "      <th>Cabin</th>\n",
       "      <th>Embarked</th>\n",
       "      <th>train_test</th>\n",
       "    </tr>\n",
       "  </thead>\n",
       "  <tbody>\n",
       "    <tr>\n",
       "      <th>0</th>\n",
       "      <td>1</td>\n",
       "      <td>0</td>\n",
       "      <td>3</td>\n",
       "      <td>Braund, Mr. Owen Harris</td>\n",
       "      <td>male</td>\n",
       "      <td>22.0</td>\n",
       "      <td>1</td>\n",
       "      <td>0</td>\n",
       "      <td>A/5 21171</td>\n",
       "      <td>7.2500</td>\n",
       "      <td>NaN</td>\n",
       "      <td>S</td>\n",
       "      <td>1</td>\n",
       "    </tr>\n",
       "    <tr>\n",
       "      <th>1</th>\n",
       "      <td>2</td>\n",
       "      <td>1</td>\n",
       "      <td>1</td>\n",
       "      <td>Cumings, Mrs. John Bradley (Florence Briggs Th...</td>\n",
       "      <td>female</td>\n",
       "      <td>38.0</td>\n",
       "      <td>1</td>\n",
       "      <td>0</td>\n",
       "      <td>PC 17599</td>\n",
       "      <td>71.2833</td>\n",
       "      <td>C85</td>\n",
       "      <td>C</td>\n",
       "      <td>1</td>\n",
       "    </tr>\n",
       "    <tr>\n",
       "      <th>2</th>\n",
       "      <td>3</td>\n",
       "      <td>1</td>\n",
       "      <td>3</td>\n",
       "      <td>Heikkinen, Miss. Laina</td>\n",
       "      <td>female</td>\n",
       "      <td>26.0</td>\n",
       "      <td>0</td>\n",
       "      <td>0</td>\n",
       "      <td>STON/O2. 3101282</td>\n",
       "      <td>7.9250</td>\n",
       "      <td>NaN</td>\n",
       "      <td>S</td>\n",
       "      <td>1</td>\n",
       "    </tr>\n",
       "    <tr>\n",
       "      <th>3</th>\n",
       "      <td>4</td>\n",
       "      <td>1</td>\n",
       "      <td>1</td>\n",
       "      <td>Futrelle, Mrs. Jacques Heath (Lily May Peel)</td>\n",
       "      <td>female</td>\n",
       "      <td>35.0</td>\n",
       "      <td>1</td>\n",
       "      <td>0</td>\n",
       "      <td>113803</td>\n",
       "      <td>53.1000</td>\n",
       "      <td>C123</td>\n",
       "      <td>S</td>\n",
       "      <td>1</td>\n",
       "    </tr>\n",
       "  </tbody>\n",
       "</table>\n",
       "</div>"
      ],
      "text/plain": [
       "   PassengerId  Survived  Pclass  \\\n",
       "0            1         0       3   \n",
       "1            2         1       1   \n",
       "2            3         1       3   \n",
       "3            4         1       1   \n",
       "\n",
       "                                                Name     Sex   Age  SibSp  \\\n",
       "0                            Braund, Mr. Owen Harris    male  22.0      1   \n",
       "1  Cumings, Mrs. John Bradley (Florence Briggs Th...  female  38.0      1   \n",
       "2                             Heikkinen, Miss. Laina  female  26.0      0   \n",
       "3       Futrelle, Mrs. Jacques Heath (Lily May Peel)  female  35.0      1   \n",
       "\n",
       "   Parch            Ticket     Fare Cabin Embarked  train_test  \n",
       "0      0         A/5 21171   7.2500   NaN        S           1  \n",
       "1      0          PC 17599  71.2833   C85        C           1  \n",
       "2      0  STON/O2. 3101282   7.9250   NaN        S           1  \n",
       "3      0            113803  53.1000  C123        S           1  "
      ]
     },
     "execution_count": 12,
     "metadata": {},
     "output_type": "execute_result"
    }
   ],
   "source": [
    "training[:4]"
   ]
  },
  {
   "cell_type": "code",
   "execution_count": 13,
   "id": "2290f5d6",
   "metadata": {
    "execution": {
     "iopub.execute_input": "2024-06-05T07:38:32.747539Z",
     "iopub.status.busy": "2024-06-05T07:38:32.746641Z",
     "iopub.status.idle": "2024-06-05T07:38:32.754404Z",
     "shell.execute_reply": "2024-06-05T07:38:32.753394Z"
    },
    "papermill": {
     "duration": 0.031901,
     "end_time": "2024-06-05T07:38:32.756659",
     "exception": false,
     "start_time": "2024-06-05T07:38:32.724758",
     "status": "completed"
    },
    "tags": []
   },
   "outputs": [
    {
     "data": {
      "text/plain": [
       "Index(['S', 'C', 'Q'], dtype='object', name='Embarked')"
      ]
     },
     "execution_count": 13,
     "metadata": {},
     "output_type": "execute_result"
    }
   ],
   "source": [
    "df_cat[i].value_counts().index"
   ]
  },
  {
   "cell_type": "code",
   "execution_count": 14,
   "id": "576d23ce",
   "metadata": {
    "execution": {
     "iopub.execute_input": "2024-06-05T07:38:32.799174Z",
     "iopub.status.busy": "2024-06-05T07:38:32.798428Z",
     "iopub.status.idle": "2024-06-05T07:38:32.808365Z",
     "shell.execute_reply": "2024-06-05T07:38:32.807209Z"
    },
    "papermill": {
     "duration": 0.034084,
     "end_time": "2024-06-05T07:38:32.810820",
     "exception": false,
     "start_time": "2024-06-05T07:38:32.776736",
     "status": "completed"
    },
    "tags": []
   },
   "outputs": [
    {
     "name": "stdout",
     "output_type": "stream",
     "text": [
      "Number of unique values in each column\n",
      "PassengerId: 891\n",
      "Survived: 2\n",
      "Pclass: 3\n",
      "Name: 891\n",
      "Sex: 2\n",
      "Age: 88\n",
      "SibSp: 7\n",
      "Parch: 7\n",
      "Ticket: 681\n",
      "Fare: 248\n",
      "Cabin: 147\n",
      "Embarked: 3\n",
      "train_test: 1\n"
     ]
    }
   ],
   "source": [
    "print(\"Number of unique values in each column\")\n",
    "for col_name in training.columns:\n",
    "    print(f\"{col_name}: {training[col_name].nunique()}\")"
   ]
  },
  {
   "cell_type": "code",
   "execution_count": 15,
   "id": "ebea3848",
   "metadata": {
    "execution": {
     "iopub.execute_input": "2024-06-05T07:38:32.853489Z",
     "iopub.status.busy": "2024-06-05T07:38:32.853148Z",
     "iopub.status.idle": "2024-06-05T07:38:32.895164Z",
     "shell.execute_reply": "2024-06-05T07:38:32.894073Z"
    },
    "papermill": {
     "duration": 0.065627,
     "end_time": "2024-06-05T07:38:32.897335",
     "exception": false,
     "start_time": "2024-06-05T07:38:32.831708",
     "status": "completed"
    },
    "tags": []
   },
   "outputs": [
    {
     "data": {
      "text/html": [
       "<div>\n",
       "<style scoped>\n",
       "    .dataframe tbody tr th:only-of-type {\n",
       "        vertical-align: middle;\n",
       "    }\n",
       "\n",
       "    .dataframe tbody tr th {\n",
       "        vertical-align: top;\n",
       "    }\n",
       "\n",
       "    .dataframe thead th {\n",
       "        text-align: right;\n",
       "    }\n",
       "</style>\n",
       "<table border=\"1\" class=\"dataframe\">\n",
       "  <thead>\n",
       "    <tr style=\"text-align: right;\">\n",
       "      <th>Pclass</th>\n",
       "      <th>1</th>\n",
       "      <th>2</th>\n",
       "      <th>3</th>\n",
       "    </tr>\n",
       "    <tr>\n",
       "      <th>Survived</th>\n",
       "      <th></th>\n",
       "      <th></th>\n",
       "      <th></th>\n",
       "    </tr>\n",
       "  </thead>\n",
       "  <tbody>\n",
       "    <tr>\n",
       "      <th>0</th>\n",
       "      <td>80</td>\n",
       "      <td>97</td>\n",
       "      <td>372</td>\n",
       "    </tr>\n",
       "    <tr>\n",
       "      <th>1</th>\n",
       "      <td>136</td>\n",
       "      <td>87</td>\n",
       "      <td>119</td>\n",
       "    </tr>\n",
       "  </tbody>\n",
       "</table>\n",
       "</div>"
      ],
      "text/plain": [
       "Pclass      1   2    3\n",
       "Survived              \n",
       "0          80  97  372\n",
       "1         136  87  119"
      ]
     },
     "metadata": {},
     "output_type": "display_data"
    },
    {
     "name": "stdout",
     "output_type": "stream",
     "text": [
      "\n"
     ]
    },
    {
     "data": {
      "text/html": [
       "<div>\n",
       "<style scoped>\n",
       "    .dataframe tbody tr th:only-of-type {\n",
       "        vertical-align: middle;\n",
       "    }\n",
       "\n",
       "    .dataframe tbody tr th {\n",
       "        vertical-align: top;\n",
       "    }\n",
       "\n",
       "    .dataframe thead th {\n",
       "        text-align: right;\n",
       "    }\n",
       "</style>\n",
       "<table border=\"1\" class=\"dataframe\">\n",
       "  <thead>\n",
       "    <tr style=\"text-align: right;\">\n",
       "      <th>Sex</th>\n",
       "      <th>female</th>\n",
       "      <th>male</th>\n",
       "    </tr>\n",
       "    <tr>\n",
       "      <th>Survived</th>\n",
       "      <th></th>\n",
       "      <th></th>\n",
       "    </tr>\n",
       "  </thead>\n",
       "  <tbody>\n",
       "    <tr>\n",
       "      <th>0</th>\n",
       "      <td>81</td>\n",
       "      <td>468</td>\n",
       "    </tr>\n",
       "    <tr>\n",
       "      <th>1</th>\n",
       "      <td>233</td>\n",
       "      <td>109</td>\n",
       "    </tr>\n",
       "  </tbody>\n",
       "</table>\n",
       "</div>"
      ],
      "text/plain": [
       "Sex       female  male\n",
       "Survived              \n",
       "0             81   468\n",
       "1            233   109"
      ]
     },
     "metadata": {},
     "output_type": "display_data"
    },
    {
     "name": "stdout",
     "output_type": "stream",
     "text": [
      "\n"
     ]
    },
    {
     "data": {
      "text/html": [
       "<div>\n",
       "<style scoped>\n",
       "    .dataframe tbody tr th:only-of-type {\n",
       "        vertical-align: middle;\n",
       "    }\n",
       "\n",
       "    .dataframe tbody tr th {\n",
       "        vertical-align: top;\n",
       "    }\n",
       "\n",
       "    .dataframe thead th {\n",
       "        text-align: right;\n",
       "    }\n",
       "</style>\n",
       "<table border=\"1\" class=\"dataframe\">\n",
       "  <thead>\n",
       "    <tr style=\"text-align: right;\">\n",
       "      <th>Embarked</th>\n",
       "      <th>C</th>\n",
       "      <th>Q</th>\n",
       "      <th>S</th>\n",
       "    </tr>\n",
       "    <tr>\n",
       "      <th>Survived</th>\n",
       "      <th></th>\n",
       "      <th></th>\n",
       "      <th></th>\n",
       "    </tr>\n",
       "  </thead>\n",
       "  <tbody>\n",
       "    <tr>\n",
       "      <th>0</th>\n",
       "      <td>75</td>\n",
       "      <td>47</td>\n",
       "      <td>427</td>\n",
       "    </tr>\n",
       "    <tr>\n",
       "      <th>1</th>\n",
       "      <td>93</td>\n",
       "      <td>30</td>\n",
       "      <td>217</td>\n",
       "    </tr>\n",
       "  </tbody>\n",
       "</table>\n",
       "</div>"
      ],
      "text/plain": [
       "Embarked   C   Q    S\n",
       "Survived             \n",
       "0         75  47  427\n",
       "1         93  30  217"
      ]
     },
     "metadata": {},
     "output_type": "display_data"
    }
   ],
   "source": [
    "# Comparing survival and each of these categorical variables\n",
    "display(pd.pivot_table(training, index=\"Survived\", columns=\"Pclass\", values=\"Ticket\", aggfunc=\"count\"))\n",
    "print()\n",
    "display(pd.pivot_table(training, index=\"Survived\", columns=\"Sex\", values=\"Ticket\", aggfunc=\"count\"))\n",
    "print()\n",
    "display(pd.pivot_table(training, index=\"Survived\", columns = \"Embarked\", values=\"Ticket\", aggfunc=\"count\"))"
   ]
  },
  {
   "cell_type": "code",
   "execution_count": 16,
   "id": "9b441fc6",
   "metadata": {
    "execution": {
     "iopub.execute_input": "2024-06-05T07:38:32.941409Z",
     "iopub.status.busy": "2024-06-05T07:38:32.941054Z",
     "iopub.status.idle": "2024-06-05T07:38:32.948701Z",
     "shell.execute_reply": "2024-06-05T07:38:32.947799Z"
    },
    "papermill": {
     "duration": 0.032461,
     "end_time": "2024-06-05T07:38:32.951007",
     "exception": false,
     "start_time": "2024-06-05T07:38:32.918546",
     "status": "completed"
    },
    "tags": []
   },
   "outputs": [
    {
     "data": {
      "text/plain": [
       "array([nan, 'C85', 'C123', 'E46', 'G6', 'C103', 'D56', 'A6',\n",
       "       'C23 C25 C27', 'B78', 'D33', 'B30', 'C52', 'B28', 'C83', 'F33',\n",
       "       'F G73', 'E31', 'A5', 'D10 D12', 'D26', 'C110', 'B58 B60', 'E101',\n",
       "       'F E69', 'D47', 'B86', 'F2', 'C2', 'E33', 'B19', 'A7', 'C49', 'F4',\n",
       "       'A32', 'B4', 'B80', 'A31', 'D36', 'D15', 'C93', 'C78', 'D35',\n",
       "       'C87', 'B77', 'E67', 'B94', 'C125', 'C99', 'C118', 'D7', 'A19',\n",
       "       'B49', 'D', 'C22 C26', 'C106', 'C65', 'E36', 'C54',\n",
       "       'B57 B59 B63 B66', 'C7', 'E34', 'C32', 'B18', 'C124', 'C91', 'E40',\n",
       "       'T', 'C128', 'D37', 'B35', 'E50', 'C82', 'B96 B98', 'E10', 'E44',\n",
       "       'A34', 'C104', 'C111', 'C92', 'E38', 'D21', 'E12', 'E63', 'A14',\n",
       "       'B37', 'C30', 'D20', 'B79', 'E25', 'D46', 'B73', 'C95', 'B38',\n",
       "       'B39', 'B22', 'C86', 'C70', 'A16', 'C101', 'C68', 'A10', 'E68',\n",
       "       'B41', 'A20', 'D19', 'D50', 'D9', 'A23', 'B50', 'A26', 'D48',\n",
       "       'E58', 'C126', 'B71', 'B51 B53 B55', 'D49', 'B5', 'B20', 'F G63',\n",
       "       'C62 C64', 'E24', 'C90', 'C45', 'E8', 'B101', 'D45', 'C46', 'D30',\n",
       "       'E121', 'D11', 'E77', 'F38', 'B3', 'D6', 'B82 B84', 'D17', 'A36',\n",
       "       'B102', 'B69', 'E49', 'C47', 'D28', 'E17', 'A24', 'C50', 'B42',\n",
       "       'C148'], dtype=object)"
      ]
     },
     "execution_count": 16,
     "metadata": {},
     "output_type": "execute_result"
    }
   ],
   "source": [
    "training[\"Cabin\"].unique()"
   ]
  },
  {
   "cell_type": "markdown",
   "id": "497d282b",
   "metadata": {
    "papermill": {
     "duration": 0.02082,
     "end_time": "2024-06-05T07:38:32.993003",
     "exception": false,
     "start_time": "2024-06-05T07:38:32.972183",
     "status": "completed"
    },
    "tags": []
   },
   "source": [
    "### Feature Engineering\n",
    "1. We can split the cabin columnb or the purchase of tickets across multiple cabins to see if they have any correlation with survival rate\n",
    "2. Do different ticket types influence survival rate?\n",
    "3. Does a person's title influence the surival rate"
   ]
  },
  {
   "cell_type": "code",
   "execution_count": 17,
   "id": "13b88c36",
   "metadata": {
    "execution": {
     "iopub.execute_input": "2024-06-05T07:38:33.036299Z",
     "iopub.status.busy": "2024-06-05T07:38:33.035955Z",
     "iopub.status.idle": "2024-06-05T07:38:33.059825Z",
     "shell.execute_reply": "2024-06-05T07:38:33.058855Z"
    },
    "papermill": {
     "duration": 0.048688,
     "end_time": "2024-06-05T07:38:33.062491",
     "exception": false,
     "start_time": "2024-06-05T07:38:33.013803",
     "status": "completed"
    },
    "tags": []
   },
   "outputs": [
    {
     "data": {
      "text/html": [
       "<div>\n",
       "<style scoped>\n",
       "    .dataframe tbody tr th:only-of-type {\n",
       "        vertical-align: middle;\n",
       "    }\n",
       "\n",
       "    .dataframe tbody tr th {\n",
       "        vertical-align: top;\n",
       "    }\n",
       "\n",
       "    .dataframe thead th {\n",
       "        text-align: right;\n",
       "    }\n",
       "</style>\n",
       "<table border=\"1\" class=\"dataframe\">\n",
       "  <thead>\n",
       "    <tr style=\"text-align: right;\">\n",
       "      <th></th>\n",
       "      <th>PassengerId</th>\n",
       "      <th>Survived</th>\n",
       "      <th>Pclass</th>\n",
       "      <th>Name</th>\n",
       "      <th>Sex</th>\n",
       "      <th>Age</th>\n",
       "      <th>SibSp</th>\n",
       "      <th>Parch</th>\n",
       "      <th>Ticket</th>\n",
       "      <th>Fare</th>\n",
       "      <th>Cabin</th>\n",
       "      <th>Embarked</th>\n",
       "      <th>train_test</th>\n",
       "      <th>cabin_multiple</th>\n",
       "    </tr>\n",
       "  </thead>\n",
       "  <tbody>\n",
       "    <tr>\n",
       "      <th>10</th>\n",
       "      <td>11</td>\n",
       "      <td>1</td>\n",
       "      <td>3</td>\n",
       "      <td>Sandstrom, Miss. Marguerite Rut</td>\n",
       "      <td>female</td>\n",
       "      <td>4.0</td>\n",
       "      <td>1</td>\n",
       "      <td>1</td>\n",
       "      <td>PP 9549</td>\n",
       "      <td>16.7000</td>\n",
       "      <td>G6</td>\n",
       "      <td>S</td>\n",
       "      <td>1</td>\n",
       "      <td>1</td>\n",
       "    </tr>\n",
       "    <tr>\n",
       "      <th>11</th>\n",
       "      <td>12</td>\n",
       "      <td>1</td>\n",
       "      <td>1</td>\n",
       "      <td>Bonnell, Miss. Elizabeth</td>\n",
       "      <td>female</td>\n",
       "      <td>58.0</td>\n",
       "      <td>0</td>\n",
       "      <td>0</td>\n",
       "      <td>113783</td>\n",
       "      <td>26.5500</td>\n",
       "      <td>C103</td>\n",
       "      <td>S</td>\n",
       "      <td>1</td>\n",
       "      <td>1</td>\n",
       "    </tr>\n",
       "    <tr>\n",
       "      <th>12</th>\n",
       "      <td>13</td>\n",
       "      <td>0</td>\n",
       "      <td>3</td>\n",
       "      <td>Saundercock, Mr. William Henry</td>\n",
       "      <td>male</td>\n",
       "      <td>20.0</td>\n",
       "      <td>0</td>\n",
       "      <td>0</td>\n",
       "      <td>A/5. 2151</td>\n",
       "      <td>8.0500</td>\n",
       "      <td>NaN</td>\n",
       "      <td>S</td>\n",
       "      <td>1</td>\n",
       "      <td>0</td>\n",
       "    </tr>\n",
       "    <tr>\n",
       "      <th>13</th>\n",
       "      <td>14</td>\n",
       "      <td>0</td>\n",
       "      <td>3</td>\n",
       "      <td>Andersson, Mr. Anders Johan</td>\n",
       "      <td>male</td>\n",
       "      <td>39.0</td>\n",
       "      <td>1</td>\n",
       "      <td>5</td>\n",
       "      <td>347082</td>\n",
       "      <td>31.2750</td>\n",
       "      <td>NaN</td>\n",
       "      <td>S</td>\n",
       "      <td>1</td>\n",
       "      <td>0</td>\n",
       "    </tr>\n",
       "    <tr>\n",
       "      <th>14</th>\n",
       "      <td>15</td>\n",
       "      <td>0</td>\n",
       "      <td>3</td>\n",
       "      <td>Vestrom, Miss. Hulda Amanda Adolfina</td>\n",
       "      <td>female</td>\n",
       "      <td>14.0</td>\n",
       "      <td>0</td>\n",
       "      <td>0</td>\n",
       "      <td>350406</td>\n",
       "      <td>7.8542</td>\n",
       "      <td>NaN</td>\n",
       "      <td>S</td>\n",
       "      <td>1</td>\n",
       "      <td>0</td>\n",
       "    </tr>\n",
       "    <tr>\n",
       "      <th>15</th>\n",
       "      <td>16</td>\n",
       "      <td>1</td>\n",
       "      <td>2</td>\n",
       "      <td>Hewlett, Mrs. (Mary D Kingcome)</td>\n",
       "      <td>female</td>\n",
       "      <td>55.0</td>\n",
       "      <td>0</td>\n",
       "      <td>0</td>\n",
       "      <td>248706</td>\n",
       "      <td>16.0000</td>\n",
       "      <td>NaN</td>\n",
       "      <td>S</td>\n",
       "      <td>1</td>\n",
       "      <td>0</td>\n",
       "    </tr>\n",
       "    <tr>\n",
       "      <th>16</th>\n",
       "      <td>17</td>\n",
       "      <td>0</td>\n",
       "      <td>3</td>\n",
       "      <td>Rice, Master. Eugene</td>\n",
       "      <td>male</td>\n",
       "      <td>2.0</td>\n",
       "      <td>4</td>\n",
       "      <td>1</td>\n",
       "      <td>382652</td>\n",
       "      <td>29.1250</td>\n",
       "      <td>NaN</td>\n",
       "      <td>Q</td>\n",
       "      <td>1</td>\n",
       "      <td>0</td>\n",
       "    </tr>\n",
       "    <tr>\n",
       "      <th>17</th>\n",
       "      <td>18</td>\n",
       "      <td>1</td>\n",
       "      <td>2</td>\n",
       "      <td>Williams, Mr. Charles Eugene</td>\n",
       "      <td>male</td>\n",
       "      <td>NaN</td>\n",
       "      <td>0</td>\n",
       "      <td>0</td>\n",
       "      <td>244373</td>\n",
       "      <td>13.0000</td>\n",
       "      <td>NaN</td>\n",
       "      <td>S</td>\n",
       "      <td>1</td>\n",
       "      <td>0</td>\n",
       "    </tr>\n",
       "    <tr>\n",
       "      <th>18</th>\n",
       "      <td>19</td>\n",
       "      <td>0</td>\n",
       "      <td>3</td>\n",
       "      <td>Vander Planke, Mrs. Julius (Emelia Maria Vande...</td>\n",
       "      <td>female</td>\n",
       "      <td>31.0</td>\n",
       "      <td>1</td>\n",
       "      <td>0</td>\n",
       "      <td>345763</td>\n",
       "      <td>18.0000</td>\n",
       "      <td>NaN</td>\n",
       "      <td>S</td>\n",
       "      <td>1</td>\n",
       "      <td>0</td>\n",
       "    </tr>\n",
       "    <tr>\n",
       "      <th>19</th>\n",
       "      <td>20</td>\n",
       "      <td>1</td>\n",
       "      <td>3</td>\n",
       "      <td>Masselmani, Mrs. Fatima</td>\n",
       "      <td>female</td>\n",
       "      <td>NaN</td>\n",
       "      <td>0</td>\n",
       "      <td>0</td>\n",
       "      <td>2649</td>\n",
       "      <td>7.2250</td>\n",
       "      <td>NaN</td>\n",
       "      <td>C</td>\n",
       "      <td>1</td>\n",
       "      <td>0</td>\n",
       "    </tr>\n",
       "  </tbody>\n",
       "</table>\n",
       "</div>"
      ],
      "text/plain": [
       "    PassengerId  Survived  Pclass  \\\n",
       "10           11         1       3   \n",
       "11           12         1       1   \n",
       "12           13         0       3   \n",
       "13           14         0       3   \n",
       "14           15         0       3   \n",
       "15           16         1       2   \n",
       "16           17         0       3   \n",
       "17           18         1       2   \n",
       "18           19         0       3   \n",
       "19           20         1       3   \n",
       "\n",
       "                                                 Name     Sex   Age  SibSp  \\\n",
       "10                    Sandstrom, Miss. Marguerite Rut  female   4.0      1   \n",
       "11                           Bonnell, Miss. Elizabeth  female  58.0      0   \n",
       "12                     Saundercock, Mr. William Henry    male  20.0      0   \n",
       "13                        Andersson, Mr. Anders Johan    male  39.0      1   \n",
       "14               Vestrom, Miss. Hulda Amanda Adolfina  female  14.0      0   \n",
       "15                   Hewlett, Mrs. (Mary D Kingcome)   female  55.0      0   \n",
       "16                               Rice, Master. Eugene    male   2.0      4   \n",
       "17                       Williams, Mr. Charles Eugene    male   NaN      0   \n",
       "18  Vander Planke, Mrs. Julius (Emelia Maria Vande...  female  31.0      1   \n",
       "19                            Masselmani, Mrs. Fatima  female   NaN      0   \n",
       "\n",
       "    Parch     Ticket     Fare Cabin Embarked  train_test  cabin_multiple  \n",
       "10      1    PP 9549  16.7000    G6        S           1               1  \n",
       "11      0     113783  26.5500  C103        S           1               1  \n",
       "12      0  A/5. 2151   8.0500   NaN        S           1               0  \n",
       "13      5     347082  31.2750   NaN        S           1               0  \n",
       "14      0     350406   7.8542   NaN        S           1               0  \n",
       "15      0     248706  16.0000   NaN        S           1               0  \n",
       "16      1     382652  29.1250   NaN        Q           1               0  \n",
       "17      0     244373  13.0000   NaN        S           1               0  \n",
       "18      0     345763  18.0000   NaN        S           1               0  \n",
       "19      0       2649   7.2250   NaN        C           1               0  "
      ]
     },
     "metadata": {},
     "output_type": "display_data"
    },
    {
     "name": "stdout",
     "output_type": "stream",
     "text": [
      "cabin_multiple\n",
      "0    687\n",
      "1    180\n",
      "2     16\n",
      "3      6\n",
      "4      2\n",
      "Name: count, dtype: int64\n"
     ]
    }
   ],
   "source": [
    "df_cat.Cabin\n",
    "training['cabin_multiple'] = training.Cabin.apply(lambda x: 0 if pd.isna(x) else len(x.split(' ')))\n",
    "display(training[10:20])\n",
    "print(training[\"cabin_multiple\"].value_counts())"
   ]
  },
  {
   "cell_type": "code",
   "execution_count": 18,
   "id": "830bb205",
   "metadata": {
    "execution": {
     "iopub.execute_input": "2024-06-05T07:38:33.106746Z",
     "iopub.status.busy": "2024-06-05T07:38:33.106373Z",
     "iopub.status.idle": "2024-06-05T07:38:33.125537Z",
     "shell.execute_reply": "2024-06-05T07:38:33.124467Z"
    },
    "papermill": {
     "duration": 0.044312,
     "end_time": "2024-06-05T07:38:33.128033",
     "exception": false,
     "start_time": "2024-06-05T07:38:33.083721",
     "status": "completed"
    },
    "tags": []
   },
   "outputs": [
    {
     "data": {
      "text/html": [
       "<div>\n",
       "<style scoped>\n",
       "    .dataframe tbody tr th:only-of-type {\n",
       "        vertical-align: middle;\n",
       "    }\n",
       "\n",
       "    .dataframe tbody tr th {\n",
       "        vertical-align: top;\n",
       "    }\n",
       "\n",
       "    .dataframe thead th {\n",
       "        text-align: right;\n",
       "    }\n",
       "</style>\n",
       "<table border=\"1\" class=\"dataframe\">\n",
       "  <thead>\n",
       "    <tr style=\"text-align: right;\">\n",
       "      <th>cabin_multiple</th>\n",
       "      <th>0</th>\n",
       "      <th>1</th>\n",
       "      <th>2</th>\n",
       "      <th>3</th>\n",
       "      <th>4</th>\n",
       "    </tr>\n",
       "    <tr>\n",
       "      <th>Survived</th>\n",
       "      <th></th>\n",
       "      <th></th>\n",
       "      <th></th>\n",
       "      <th></th>\n",
       "      <th></th>\n",
       "    </tr>\n",
       "  </thead>\n",
       "  <tbody>\n",
       "    <tr>\n",
       "      <th>0</th>\n",
       "      <td>481.0</td>\n",
       "      <td>58.0</td>\n",
       "      <td>7.0</td>\n",
       "      <td>3.0</td>\n",
       "      <td>NaN</td>\n",
       "    </tr>\n",
       "    <tr>\n",
       "      <th>1</th>\n",
       "      <td>206.0</td>\n",
       "      <td>122.0</td>\n",
       "      <td>9.0</td>\n",
       "      <td>3.0</td>\n",
       "      <td>2.0</td>\n",
       "    </tr>\n",
       "  </tbody>\n",
       "</table>\n",
       "</div>"
      ],
      "text/plain": [
       "cabin_multiple      0      1    2    3    4\n",
       "Survived                                   \n",
       "0               481.0   58.0  7.0  3.0  NaN\n",
       "1               206.0  122.0  9.0  3.0  2.0"
      ]
     },
     "execution_count": 18,
     "metadata": {},
     "output_type": "execute_result"
    }
   ],
   "source": [
    "pd.pivot_table(training, index=\"Survived\", columns=\"cabin_multiple\", values=\"Ticket\", aggfunc=\"count\")"
   ]
  },
  {
   "cell_type": "code",
   "execution_count": 19,
   "id": "840694e6",
   "metadata": {
    "execution": {
     "iopub.execute_input": "2024-06-05T07:38:33.174215Z",
     "iopub.status.busy": "2024-06-05T07:38:33.173404Z",
     "iopub.status.idle": "2024-06-05T07:38:33.199831Z",
     "shell.execute_reply": "2024-06-05T07:38:33.198689Z"
    },
    "papermill": {
     "duration": 0.052015,
     "end_time": "2024-06-05T07:38:33.202157",
     "exception": false,
     "start_time": "2024-06-05T07:38:33.150142",
     "status": "completed"
    },
    "tags": []
   },
   "outputs": [
    {
     "name": "stdout",
     "output_type": "stream",
     "text": [
      "cabin_adv\n",
      "n    687\n",
      "C     59\n",
      "B     47\n",
      "D     33\n",
      "E     32\n",
      "A     15\n",
      "F     13\n",
      "G      4\n",
      "T      1\n",
      "Name: count, dtype: int64\n"
     ]
    },
    {
     "data": {
      "text/html": [
       "<div>\n",
       "<style scoped>\n",
       "    .dataframe tbody tr th:only-of-type {\n",
       "        vertical-align: middle;\n",
       "    }\n",
       "\n",
       "    .dataframe tbody tr th {\n",
       "        vertical-align: top;\n",
       "    }\n",
       "\n",
       "    .dataframe thead th {\n",
       "        text-align: right;\n",
       "    }\n",
       "</style>\n",
       "<table border=\"1\" class=\"dataframe\">\n",
       "  <thead>\n",
       "    <tr style=\"text-align: right;\">\n",
       "      <th>cabin_adv</th>\n",
       "      <th>A</th>\n",
       "      <th>B</th>\n",
       "      <th>C</th>\n",
       "      <th>D</th>\n",
       "      <th>E</th>\n",
       "      <th>F</th>\n",
       "      <th>G</th>\n",
       "      <th>T</th>\n",
       "      <th>n</th>\n",
       "    </tr>\n",
       "    <tr>\n",
       "      <th>Survived</th>\n",
       "      <th></th>\n",
       "      <th></th>\n",
       "      <th></th>\n",
       "      <th></th>\n",
       "      <th></th>\n",
       "      <th></th>\n",
       "      <th></th>\n",
       "      <th></th>\n",
       "      <th></th>\n",
       "    </tr>\n",
       "  </thead>\n",
       "  <tbody>\n",
       "    <tr>\n",
       "      <th>0</th>\n",
       "      <td>8.0</td>\n",
       "      <td>12.0</td>\n",
       "      <td>24.0</td>\n",
       "      <td>8.0</td>\n",
       "      <td>8.0</td>\n",
       "      <td>5.0</td>\n",
       "      <td>2.0</td>\n",
       "      <td>1.0</td>\n",
       "      <td>481.0</td>\n",
       "    </tr>\n",
       "    <tr>\n",
       "      <th>1</th>\n",
       "      <td>7.0</td>\n",
       "      <td>35.0</td>\n",
       "      <td>35.0</td>\n",
       "      <td>25.0</td>\n",
       "      <td>24.0</td>\n",
       "      <td>8.0</td>\n",
       "      <td>2.0</td>\n",
       "      <td>NaN</td>\n",
       "      <td>206.0</td>\n",
       "    </tr>\n",
       "  </tbody>\n",
       "</table>\n",
       "</div>"
      ],
      "text/plain": [
       "cabin_adv    A     B     C     D     E    F    G    T      n\n",
       "Survived                                                    \n",
       "0          8.0  12.0  24.0   8.0   8.0  5.0  2.0  1.0  481.0\n",
       "1          7.0  35.0  35.0  25.0  24.0  8.0  2.0  NaN  206.0"
      ]
     },
     "execution_count": 19,
     "metadata": {},
     "output_type": "execute_result"
    }
   ],
   "source": [
    "training[\"cabin_adv\"] = training.Cabin.apply(lambda x: str(x)[0])\n",
    "print(training.cabin_adv.value_counts())\n",
    "pd.pivot_table(training, index=\"Survived\", columns=\"cabin_adv\", values=\"Name\", aggfunc=\"count\")"
   ]
  },
  {
   "cell_type": "code",
   "execution_count": 20,
   "id": "288e3d7c",
   "metadata": {
    "execution": {
     "iopub.execute_input": "2024-06-05T07:38:33.301996Z",
     "iopub.status.busy": "2024-06-05T07:38:33.301281Z",
     "iopub.status.idle": "2024-06-05T07:38:33.314330Z",
     "shell.execute_reply": "2024-06-05T07:38:33.313070Z"
    },
    "papermill": {
     "duration": 0.092136,
     "end_time": "2024-06-05T07:38:33.316597",
     "exception": false,
     "start_time": "2024-06-05T07:38:33.224461",
     "status": "completed"
    },
    "tags": []
   },
   "outputs": [
    {
     "data": {
      "text/plain": [
       "numeric_ticket\n",
       "1    661\n",
       "0    230\n",
       "Name: count, dtype: int64"
      ]
     },
     "execution_count": 20,
     "metadata": {},
     "output_type": "execute_result"
    }
   ],
   "source": [
    "# Create cabin based on the cabin letter (n stands for null)\n",
    "# in this case we will treat null values \n",
    "\n",
    "training[\"numeric_ticket\"] = training.Ticket.apply(lambda x: 1 if x.isnumeric() else 0)\n",
    "training[\"ticket_letters\"] = training.Ticket.apply(lambda x: 1 if x.isalpha() else 0)\n",
    "training['numeric_ticket'].value_counts()"
   ]
  },
  {
   "cell_type": "code",
   "execution_count": 21,
   "id": "8801e65c",
   "metadata": {
    "execution": {
     "iopub.execute_input": "2024-06-05T07:38:33.364976Z",
     "iopub.status.busy": "2024-06-05T07:38:33.363741Z",
     "iopub.status.idle": "2024-06-05T07:38:33.378598Z",
     "shell.execute_reply": "2024-06-05T07:38:33.377820Z"
    },
    "papermill": {
     "duration": 0.041295,
     "end_time": "2024-06-05T07:38:33.381039",
     "exception": false,
     "start_time": "2024-06-05T07:38:33.339744",
     "status": "completed"
    },
    "tags": []
   },
   "outputs": [
    {
     "data": {
      "text/html": [
       "<div>\n",
       "<style scoped>\n",
       "    .dataframe tbody tr th:only-of-type {\n",
       "        vertical-align: middle;\n",
       "    }\n",
       "\n",
       "    .dataframe tbody tr th {\n",
       "        vertical-align: top;\n",
       "    }\n",
       "\n",
       "    .dataframe thead th {\n",
       "        text-align: right;\n",
       "    }\n",
       "</style>\n",
       "<table border=\"1\" class=\"dataframe\">\n",
       "  <thead>\n",
       "    <tr style=\"text-align: right;\">\n",
       "      <th>numeric_ticket</th>\n",
       "      <th>0</th>\n",
       "      <th>1</th>\n",
       "    </tr>\n",
       "    <tr>\n",
       "      <th>Survived</th>\n",
       "      <th></th>\n",
       "      <th></th>\n",
       "    </tr>\n",
       "  </thead>\n",
       "  <tbody>\n",
       "    <tr>\n",
       "      <th>0</th>\n",
       "      <td>142</td>\n",
       "      <td>407</td>\n",
       "    </tr>\n",
       "    <tr>\n",
       "      <th>1</th>\n",
       "      <td>88</td>\n",
       "      <td>254</td>\n",
       "    </tr>\n",
       "  </tbody>\n",
       "</table>\n",
       "</div>"
      ],
      "text/plain": [
       "numeric_ticket    0    1\n",
       "Survived                \n",
       "0               142  407\n",
       "1                88  254"
      ]
     },
     "execution_count": 21,
     "metadata": {},
     "output_type": "execute_result"
    }
   ],
   "source": [
    "pd.pivot_table(training, index=\"Survived\", columns=\"numeric_ticket\", values=\"Ticket\", aggfunc=\"count\")"
   ]
  },
  {
   "cell_type": "markdown",
   "id": "3d4cb125",
   "metadata": {
    "papermill": {
     "duration": 0.022329,
     "end_time": "2024-06-05T07:38:33.426020",
     "exception": false,
     "start_time": "2024-06-05T07:38:33.403691",
     "status": "completed"
    },
    "tags": []
   },
   "source": [
    "### Data Preprocessing for Model"
   ]
  },
  {
   "cell_type": "code",
   "execution_count": 22,
   "id": "bed1999a",
   "metadata": {
    "execution": {
     "iopub.execute_input": "2024-06-05T07:38:33.472591Z",
     "iopub.status.busy": "2024-06-05T07:38:33.472214Z",
     "iopub.status.idle": "2024-06-05T07:38:33.482530Z",
     "shell.execute_reply": "2024-06-05T07:38:33.481444Z"
    },
    "papermill": {
     "duration": 0.036289,
     "end_time": "2024-06-05T07:38:33.484743",
     "exception": false,
     "start_time": "2024-06-05T07:38:33.448454",
     "status": "completed"
    },
    "tags": []
   },
   "outputs": [
    {
     "data": {
      "text/plain": [
       "PassengerId       0\n",
       "Survived        418\n",
       "Pclass            0\n",
       "Name              0\n",
       "Sex               0\n",
       "Age             263\n",
       "SibSp             0\n",
       "Parch             0\n",
       "Ticket            0\n",
       "Fare              1\n",
       "Cabin          1014\n",
       "Embarked          2\n",
       "train_test        0\n",
       "dtype: int64"
      ]
     },
     "execution_count": 22,
     "metadata": {},
     "output_type": "execute_result"
    }
   ],
   "source": [
    "all_data.isnull().sum()"
   ]
  },
  {
   "cell_type": "code",
   "execution_count": 23,
   "id": "c76c97fd",
   "metadata": {
    "execution": {
     "iopub.execute_input": "2024-06-05T07:38:33.531708Z",
     "iopub.status.busy": "2024-06-05T07:38:33.531310Z",
     "iopub.status.idle": "2024-06-05T07:38:33.839933Z",
     "shell.execute_reply": "2024-06-05T07:38:33.838923Z"
    },
    "papermill": {
     "duration": 0.334884,
     "end_time": "2024-06-05T07:38:33.842188",
     "exception": false,
     "start_time": "2024-06-05T07:38:33.507304",
     "status": "completed"
    },
    "tags": []
   },
   "outputs": [
    {
     "data": {
      "text/plain": [
       "(889,)"
      ]
     },
     "execution_count": 23,
     "metadata": {},
     "output_type": "execute_result"
    },
    {
     "data": {
      "image/png": "[encoded data removed]",
      "text/plain": [
       "<Figure size 640x480 with 1 Axes>"
      ]
     },
     "metadata": {},
     "output_type": "display_data"
    }
   ],
   "source": [
    "all_data[\"cabin_multiple\"] = all_data.Cabin.apply(lambda x: 0 if pd.isna(x) else len(x.split(' ')))\n",
    "all_data[\"cabin_adv\"] = all_data.Cabin.apply(lambda x: str(x)[0])\n",
    "all_data[\"numeric_ticket\"] = all_data.Ticket.apply(lambda x: 1 if x.isnumeric() else 0)\n",
    "all_data[\"ticket_letters\"] = all_data.Ticket.apply(lambda x: 1 if x.isalpha() else 0)\n",
    "\n",
    "# Missing value imputation\n",
    "all_data.Age = all_data.Age.fillna(training.Age.median())\n",
    "all_data.Fare = all_data.Fare.fillna(training.Fare.median())\n",
    "\n",
    "# Deleting the two rows which have null in embarked column\n",
    "all_data.dropna(subset=[\"Embarked\"], inplace=True)\n",
    "\n",
    "# A data transformation is the process of using a math expression to change the structure of our data. \n",
    "# As we mentioned before, some models need data to fit a specific type of distribution for them to produce optimal results. \n",
    "# Unfortunately, the data we get in the real world, doesn’t always fit the distributions our models call for.\n",
    "# Let's look at the shape of our data and if it has any outliers before we do our transforms\n",
    "\n",
    "all_data[\"norm_fare\"] = np.log(all_data.Fare+1)\n",
    "all_data[\"norm_fare\"].hist()\n",
    "\n",
    "all_dummies=pd.get_dummies(all_data[['Pclass','Sex','Age','SibSp','Parch','Embarked','cabin_adv','cabin_multiple','numeric_ticket','train_test']])\n",
    "\n",
    "# Split to train test again\n",
    "X_train = all_dummies[all_dummies[\"train_test\"]==1].drop(\"train_test\", axis=1)\n",
    "X_test = all_dummies[all_dummies[\"train_test\"]==0].drop(\"train_test\", axis=1)\n",
    "\n",
    "y_train = all_data[all_data.train_test==1].Survived\n",
    "y_train.shape"
   ]
  },
  {
   "cell_type": "code",
   "execution_count": 24,
   "id": "b5a83e02",
   "metadata": {
    "execution": {
     "iopub.execute_input": "2024-06-05T07:38:33.888837Z",
     "iopub.status.busy": "2024-06-05T07:38:33.888474Z",
     "iopub.status.idle": "2024-06-05T07:38:34.031043Z",
     "shell.execute_reply": "2024-06-05T07:38:34.030190Z"
    },
    "papermill": {
     "duration": 0.168582,
     "end_time": "2024-06-05T07:38:34.033600",
     "exception": false,
     "start_time": "2024-06-05T07:38:33.865018",
     "status": "completed"
    },
    "tags": []
   },
   "outputs": [],
   "source": [
    "from sklearn.preprocessing import StandardScaler\n",
    "scale = StandardScaler()\n",
    "all_dummies_scaled = all_dummies.copy()\n",
    "all_dummies_scaled[[\"Age\", \"SibSp\", \"Parch\"]] = scale.fit_transform(all_dummies_scaled[[\"Age\", \"SibSp\", \"Parch\"]])\n",
    "all_dummies_scaled\n",
    "\n",
    "X_train_scaled = all_dummies_scaled[all_dummies_scaled.train_test == 1].drop(['train_test'], axis =1)\n",
    "X_test_scaled = all_dummies_scaled[all_dummies_scaled.train_test == 0].drop(['train_test'], axis =1)\n",
    "\n",
    "y_train = all_data[all_data.train_test==1].Survived"
   ]
  },
  {
   "cell_type": "markdown",
   "id": "79c17197",
   "metadata": {
    "papermill": {
     "duration": 0.022203,
     "end_time": "2024-06-05T07:38:34.078190",
     "exception": false,
     "start_time": "2024-06-05T07:38:34.055987",
     "status": "completed"
    },
    "tags": []
   },
   "source": [
    "### Building a Model Baseline:\n",
    "Just because a model has a higher baseline on the val set, doesn't mean that it performs well on test set. Following models were implemented:"
   ]
  },
  {
   "cell_type": "code",
   "execution_count": 25,
   "id": "5b1ff37c",
   "metadata": {
    "execution": {
     "iopub.execute_input": "2024-06-05T07:38:34.125555Z",
     "iopub.status.busy": "2024-06-05T07:38:34.125144Z",
     "iopub.status.idle": "2024-06-05T07:38:34.420590Z",
     "shell.execute_reply": "2024-06-05T07:38:34.419747Z"
    },
    "papermill": {
     "duration": 0.322011,
     "end_time": "2024-06-05T07:38:34.423289",
     "exception": false,
     "start_time": "2024-06-05T07:38:34.101278",
     "status": "completed"
    },
    "tags": []
   },
   "outputs": [],
   "source": [
    "from sklearn.model_selection import cross_val_score\n",
    "from sklearn.naive_bayes import GaussianNB\n",
    "from sklearn.linear_model import LogisticRegression\n",
    "from sklearn import tree\n",
    "from sklearn.neighbors import KNeighborsClassifier\n",
    "from sklearn.ensemble import RandomForestClassifier\n",
    "from sklearn.svm import SVC"
   ]
  },
  {
   "cell_type": "code",
   "execution_count": 26,
   "id": "ab89d27d",
   "metadata": {
    "execution": {
     "iopub.execute_input": "2024-06-05T07:38:34.469442Z",
     "iopub.status.busy": "2024-06-05T07:38:34.469067Z",
     "iopub.status.idle": "2024-06-05T07:38:34.509247Z",
     "shell.execute_reply": "2024-06-05T07:38:34.507950Z"
    },
    "papermill": {
     "duration": 0.066235,
     "end_time": "2024-06-05T07:38:34.511525",
     "exception": false,
     "start_time": "2024-06-05T07:38:34.445290",
     "status": "completed"
    },
    "tags": []
   },
   "outputs": [
    {
     "name": "stdout",
     "output_type": "stream",
     "text": [
      "[0.69662921 0.67977528 0.67977528 0.68539326 0.73446328]\n",
      "0.6952072621088047\n"
     ]
    }
   ],
   "source": [
    "#I usually use Naive Bayes as a baseline for my classification tasks \n",
    "from sklearn.naive_bayes import GaussianNB\n",
    "gnb = GaussianNB()\n",
    "cv = cross_val_score(gnb, X_train_scaled, y_train, cv=5)\n",
    "print(cv)\n",
    "print(cv.mean())"
   ]
  },
  {
   "cell_type": "code",
   "execution_count": 27,
   "id": "535c65be",
   "metadata": {
    "execution": {
     "iopub.execute_input": "2024-06-05T07:38:34.559201Z",
     "iopub.status.busy": "2024-06-05T07:38:34.558850Z",
     "iopub.status.idle": "2024-06-05T07:38:35.211521Z",
     "shell.execute_reply": "2024-06-05T07:38:35.210147Z"
    },
    "papermill": {
     "duration": 0.68038,
     "end_time": "2024-06-05T07:38:35.215268",
     "exception": false,
     "start_time": "2024-06-05T07:38:34.534888",
     "status": "completed"
    },
    "tags": []
   },
   "outputs": [
    {
     "name": "stdout",
     "output_type": "stream",
     "text": [
      "[0.78089888 0.79775281 0.78651685 0.7752809  0.80225989]\n",
      "0.7885418650415794\n"
     ]
    }
   ],
   "source": [
    "from sklearn.linear_model import LogisticRegression\n",
    "lr = LogisticRegression(max_iter = 2000)\n",
    "cv = cross_val_score(lr,X_train,y_train,cv=5)\n",
    "print(cv)\n",
    "print(cv.mean())"
   ]
  },
  {
   "cell_type": "code",
   "execution_count": 28,
   "id": "6f468961",
   "metadata": {
    "execution": {
     "iopub.execute_input": "2024-06-05T07:38:35.317391Z",
     "iopub.status.busy": "2024-06-05T07:38:35.316766Z",
     "iopub.status.idle": "2024-06-05T07:38:35.366281Z",
     "shell.execute_reply": "2024-06-05T07:38:35.364934Z"
    },
    "papermill": {
     "duration": 0.102935,
     "end_time": "2024-06-05T07:38:35.368501",
     "exception": false,
     "start_time": "2024-06-05T07:38:35.265566",
     "status": "completed"
    },
    "tags": []
   },
   "outputs": [
    {
     "name": "stdout",
     "output_type": "stream",
     "text": [
      "[0.74157303 0.7752809  0.80898876 0.7752809  0.79661017]\n",
      "0.7795467529994287\n"
     ]
    }
   ],
   "source": [
    "from sklearn import tree\n",
    "dt = tree.DecisionTreeClassifier(random_state = 1)\n",
    "cv = cross_val_score(dt, X_train, y_train, cv=5)\n",
    "print(cv)\n",
    "print(cv.mean())"
   ]
  },
  {
   "cell_type": "code",
   "execution_count": 29,
   "id": "a41c2950",
   "metadata": {
    "execution": {
     "iopub.execute_input": "2024-06-05T07:38:35.415873Z",
     "iopub.status.busy": "2024-06-05T07:38:35.415427Z",
     "iopub.status.idle": "2024-06-05T07:38:35.571011Z",
     "shell.execute_reply": "2024-06-05T07:38:35.569579Z"
    },
    "papermill": {
     "duration": 0.181838,
     "end_time": "2024-06-05T07:38:35.573046",
     "exception": false,
     "start_time": "2024-06-05T07:38:35.391208",
     "status": "completed"
    },
    "tags": []
   },
   "outputs": [
    {
     "name": "stdout",
     "output_type": "stream",
     "text": [
      "[0.75280899 0.80337079 0.78651685 0.78651685 0.83615819]\n",
      "0.7930743350472926\n"
     ]
    }
   ],
   "source": [
    "from sklearn.neighbors import KNeighborsClassifier\n",
    "knn = KNeighborsClassifier()\n",
    "cv = cross_val_score(knn, X_train_scaled, y_train, cv=5)\n",
    "print(cv)\n",
    "print(cv.mean())"
   ]
  },
  {
   "cell_type": "code",
   "execution_count": 30,
   "id": "575e42ae",
   "metadata": {
    "execution": {
     "iopub.execute_input": "2024-06-05T07:38:35.621570Z",
     "iopub.status.busy": "2024-06-05T07:38:35.620809Z",
     "iopub.status.idle": "2024-06-05T07:38:36.948839Z",
     "shell.execute_reply": "2024-06-05T07:38:36.947767Z"
    },
    "papermill": {
     "duration": 1.355745,
     "end_time": "2024-06-05T07:38:36.951185",
     "exception": false,
     "start_time": "2024-06-05T07:38:35.595440",
     "status": "completed"
    },
    "tags": []
   },
   "outputs": [
    {
     "name": "stdout",
     "output_type": "stream",
     "text": [
      "[0.76404494 0.79213483 0.8258427  0.76966292 0.79096045]\n",
      "0.7885291690471657\n"
     ]
    }
   ],
   "source": [
    "from sklearn.ensemble import RandomForestClassifier\n",
    "rf = RandomForestClassifier(random_state=1)\n",
    "cv = cross_val_score(rf, X_train_scaled, y_train, cv=5)\n",
    "print(cv)\n",
    "print(cv.mean())"
   ]
  },
  {
   "cell_type": "code",
   "execution_count": 31,
   "id": "bdfb2586",
   "metadata": {
    "execution": {
     "iopub.execute_input": "2024-06-05T07:38:36.999794Z",
     "iopub.status.busy": "2024-06-05T07:38:36.999333Z",
     "iopub.status.idle": "2024-06-05T07:38:37.436366Z",
     "shell.execute_reply": "2024-06-05T07:38:37.435312Z"
    },
    "papermill": {
     "duration": 0.464601,
     "end_time": "2024-06-05T07:38:37.438874",
     "exception": false,
     "start_time": "2024-06-05T07:38:36.974273",
     "status": "completed"
    },
    "tags": []
   },
   "outputs": [
    {
     "name": "stdout",
     "output_type": "stream",
     "text": [
      "[0.83146067 0.82022472 0.80898876 0.80337079 0.84745763]\n",
      "0.8223005141877738\n"
     ]
    }
   ],
   "source": [
    "from sklearn.svm import SVC\n",
    "svc = SVC(probability=True)\n",
    "cv = cross_val_score(svc, X_train_scaled, y_train, cv=5)\n",
    "print(cv)\n",
    "print(cv.mean())"
   ]
  },
  {
   "cell_type": "code",
   "execution_count": 32,
   "id": "959264c9",
   "metadata": {
    "execution": {
     "iopub.execute_input": "2024-06-05T07:38:37.487344Z",
     "iopub.status.busy": "2024-06-05T07:38:37.487008Z",
     "iopub.status.idle": "2024-06-05T07:38:38.071414Z",
     "shell.execute_reply": "2024-06-05T07:38:38.070528Z"
    },
    "papermill": {
     "duration": 0.611061,
     "end_time": "2024-06-05T07:38:38.073732",
     "exception": false,
     "start_time": "2024-06-05T07:38:37.462671",
     "status": "completed"
    },
    "tags": []
   },
   "outputs": [
    {
     "name": "stdout",
     "output_type": "stream",
     "text": [
      "[0.78651685 0.80898876 0.81460674 0.79213483 0.83050847]\n",
      "0.8065511331175014\n"
     ]
    }
   ],
   "source": [
    "from xgboost import XGBClassifier\n",
    "xgb = XGBClassifier(random_state=1)\n",
    "cv = cross_val_score(xgb, X_train_scaled, y_train, cv=5)\n",
    "print(cv)\n",
    "print(cv.mean())"
   ]
  },
  {
   "cell_type": "code",
   "execution_count": 33,
   "id": "029a505b",
   "metadata": {
    "execution": {
     "iopub.execute_input": "2024-06-05T07:38:38.123932Z",
     "iopub.status.busy": "2024-06-05T07:38:38.122953Z",
     "iopub.status.idle": "2024-06-05T07:38:38.130440Z",
     "shell.execute_reply": "2024-06-05T07:38:38.129384Z"
    },
    "papermill": {
     "duration": 0.034213,
     "end_time": "2024-06-05T07:38:38.132549",
     "exception": false,
     "start_time": "2024-06-05T07:38:38.098336",
     "status": "completed"
    },
    "tags": []
   },
   "outputs": [
    {
     "name": "stdout",
     "output_type": "stream",
     "text": [
      "[0.78651685 0.80898876 0.81460674 0.79213483 0.83050847]\n",
      "0.8065511331175014\n"
     ]
    }
   ],
   "source": [
    "from sklearn.ensemble import VotingClassifier\n",
    "voting_clf = VotingClassifier(estimators = [('LogisticRegression', lr), ('knn',knn), ('rf',rf), ('gnb',gnb), ('svc', svc), ('xgb', xgb)], voting='soft')\n",
    "print(cv)\n",
    "print(cv.mean())"
   ]
  },
  {
   "cell_type": "code",
   "execution_count": 34,
   "id": "362f83b0",
   "metadata": {
    "execution": {
     "iopub.execute_input": "2024-06-05T07:38:38.181942Z",
     "iopub.status.busy": "2024-06-05T07:38:38.181531Z",
     "iopub.status.idle": "2024-06-05T07:38:40.962035Z",
     "shell.execute_reply": "2024-06-05T07:38:40.961247Z"
    },
    "papermill": {
     "duration": 2.808013,
     "end_time": "2024-06-05T07:38:40.964130",
     "exception": false,
     "start_time": "2024-06-05T07:38:38.156117",
     "status": "completed"
    },
    "tags": []
   },
   "outputs": [
    {
     "name": "stdout",
     "output_type": "stream",
     "text": [
      "[0.78089888 0.80898876 0.80898876 0.82022472 0.83615819]\n",
      "0.8110518631371801\n"
     ]
    }
   ],
   "source": [
    "cv = cross_val_score(voting_clf, X_train_scaled, y_train, cv=5)\n",
    "print(cv)\n",
    "print(cv.mean())"
   ]
  },
  {
   "cell_type": "code",
   "execution_count": 35,
   "id": "67e0160f",
   "metadata": {
    "execution": {
     "iopub.execute_input": "2024-06-05T07:38:41.014330Z",
     "iopub.status.busy": "2024-06-05T07:38:41.013469Z",
     "iopub.status.idle": "2024-06-05T07:38:41.630135Z",
     "shell.execute_reply": "2024-06-05T07:38:41.629349Z"
    },
    "papermill": {
     "duration": 0.646454,
     "end_time": "2024-06-05T07:38:41.635540",
     "exception": false,
     "start_time": "2024-06-05T07:38:40.989086",
     "status": "completed"
    },
    "tags": []
   },
   "outputs": [],
   "source": [
    "voting_clf.fit(X_train_scaled, y_train)\n",
    "y_hat_base_vc = voting_clf.predict(X_test_scaled).astype(int)\n",
    "basic_submission = {\"passengerId\": test.PassengerId, 'Survived': y_hat_base_vc}\n",
    "base_submission = pd.DataFrame(data=basic_submission)\n",
    "base_submission.to_csv('base_submission.csv', index=False)"
   ]
  },
  {
   "cell_type": "markdown",
   "id": "f85636ba",
   "metadata": {
    "papermill": {
     "duration": 0.022902,
     "end_time": "2024-06-05T07:38:41.682162",
     "exception": false,
     "start_time": "2024-06-05T07:38:41.659260",
     "status": "completed"
    },
    "tags": []
   },
   "source": [
    "### Model Tuned Performance\n",
    "Ways to improve upon individual models after getting the predictions"
   ]
  },
  {
   "cell_type": "code",
   "execution_count": 36,
   "id": "58539147",
   "metadata": {
    "execution": {
     "iopub.execute_input": "2024-06-05T07:38:41.730094Z",
     "iopub.status.busy": "2024-06-05T07:38:41.729395Z",
     "iopub.status.idle": "2024-06-05T07:38:41.734117Z",
     "shell.execute_reply": "2024-06-05T07:38:41.733199Z"
    },
    "papermill": {
     "duration": 0.031716,
     "end_time": "2024-06-05T07:38:41.736274",
     "exception": false,
     "start_time": "2024-06-05T07:38:41.704558",
     "status": "completed"
    },
    "tags": []
   },
   "outputs": [],
   "source": [
    "from sklearn.model_selection import GridSearchCV\n",
    "from sklearn.model_selection import RandomizedSearchCV"
   ]
  },
  {
   "cell_type": "code",
   "execution_count": 37,
   "id": "a68a7437",
   "metadata": {
    "execution": {
     "iopub.execute_input": "2024-06-05T07:38:41.786437Z",
     "iopub.status.busy": "2024-06-05T07:38:41.785485Z",
     "iopub.status.idle": "2024-06-05T07:38:41.790860Z",
     "shell.execute_reply": "2024-06-05T07:38:41.789900Z"
    },
    "papermill": {
     "duration": 0.032962,
     "end_time": "2024-06-05T07:38:41.792911",
     "exception": false,
     "start_time": "2024-06-05T07:38:41.759949",
     "status": "completed"
    },
    "tags": []
   },
   "outputs": [],
   "source": [
    "def clf_performance(classifier, model_name):\n",
    "    print(model_name)\n",
    "    print(\"Best Score: \" +str(classifier.best_score_))\n",
    "    print(\"Best Parameters \"+  str(classifier.best_params_))"
   ]
  },
  {
   "cell_type": "code",
   "execution_count": 38,
   "id": "b8f27c4f",
   "metadata": {
    "execution": {
     "iopub.execute_input": "2024-06-05T07:38:41.841613Z",
     "iopub.status.busy": "2024-06-05T07:38:41.840797Z",
     "iopub.status.idle": "2024-06-05T07:38:44.697402Z",
     "shell.execute_reply": "2024-06-05T07:38:44.695939Z"
    },
    "papermill": {
     "duration": 2.883988,
     "end_time": "2024-06-05T07:38:44.699831",
     "exception": false,
     "start_time": "2024-06-05T07:38:41.815843",
     "status": "completed"
    },
    "tags": []
   },
   "outputs": [
    {
     "name": "stdout",
     "output_type": "stream",
     "text": [
      "Fitting 5 folds for each of 40 candidates, totalling 200 fits\n",
      "Logistic Regression\n",
      "Best Score: 0.7964260775725258\n",
      "Best Parameters {'C': 0.23357214690901212, 'max_iter': 2000, 'penalty': 'l1', 'solver': 'liblinear'}\n"
     ]
    }
   ],
   "source": [
    "# LogisticRegression?\n",
    "lr = LogisticRegression()\n",
    "param_grid = {'max_iter': [2000],\n",
    "             'penalty':['l1', 'l2'], # read more about l1 and l2 regularization\n",
    "             'C': np.logspace(-4,4,20),\n",
    "             'solver': ['liblinear']}\n",
    "clf_lr = GridSearchCV(lr, param_grid, cv=5, verbose=True, n_jobs=-1)\n",
    "best_clf_lr = clf_lr.fit(X_train_scaled, y_train)\n",
    "clf_performance(best_clf_lr, 'Logistic Regression')"
   ]
  },
  {
   "cell_type": "code",
   "execution_count": 39,
   "id": "dcad2a97",
   "metadata": {
    "execution": {
     "iopub.execute_input": "2024-06-05T07:38:44.750905Z",
     "iopub.status.busy": "2024-06-05T07:38:44.750206Z",
     "iopub.status.idle": "2024-06-05T07:38:46.282149Z",
     "shell.execute_reply": "2024-06-05T07:38:46.281147Z"
    },
    "papermill": {
     "duration": 1.560342,
     "end_time": "2024-06-05T07:38:46.284743",
     "exception": false,
     "start_time": "2024-06-05T07:38:44.724401",
     "status": "completed"
    },
    "tags": []
   },
   "outputs": [
    {
     "name": "stdout",
     "output_type": "stream",
     "text": [
      "Fitting 5 folds for each of 48 candidates, totalling 240 fits\n",
      "KNN\n",
      "Best Score: 0.8166825366596839\n",
      "Best Parameters {'algorithm': 'kd_tree', 'n_neighbors': 7, 'p': 1, 'weights': 'uniform'}\n"
     ]
    }
   ],
   "source": [
    "knn = KNeighborsClassifier()\n",
    "param_grid = {'n_neighbors': [3,5,7,9],\n",
    "             'weights':['uniform', 'distance'],\n",
    "             'algorithm':['auto','ball_tree', 'kd_tree'],\n",
    "             'p': [1,2]}\n",
    "clf_knn = GridSearchCV(knn, param_grid=param_grid, cv=5, verbose=True, n_jobs=-1)\n",
    "best_clf_knn = clf_knn.fit(X_train_scaled, y_train)\n",
    "clf_performance(best_clf_knn, 'KNN')"
   ]
  },
  {
   "cell_type": "code",
   "execution_count": 40,
   "id": "a23287b0",
   "metadata": {
    "execution": {
     "iopub.execute_input": "2024-06-05T07:38:46.334215Z",
     "iopub.status.busy": "2024-06-05T07:38:46.333853Z",
     "iopub.status.idle": "2024-06-05T07:39:04.540593Z",
     "shell.execute_reply": "2024-06-05T07:39:04.539472Z"
    },
    "papermill": {
     "duration": 18.234253,
     "end_time": "2024-06-05T07:39:04.543071",
     "exception": false,
     "start_time": "2024-06-05T07:38:46.308818",
     "status": "completed"
    },
    "tags": []
   },
   "outputs": [
    {
     "name": "stdout",
     "output_type": "stream",
     "text": [
      "Fitting 5 folds for each of 30 candidates, totalling 150 fits\n",
      "SVC\n",
      "Best Score: 0.8234241096933917\n",
      "Best Parameters {'C': 1, 'gamma': 0.1, 'kernel': 'rbf'}\n"
     ]
    }
   ],
   "source": [
    "from sklearn.svm import SVC\n",
    "svc = SVC(probability=True)\n",
    "param_grid = tuned_parameters = [{'kernel': ['rbf'], 'gamma': [.1,.5,1],\n",
    "                                  'C': [.1, 1, 10, 100, 1000]},\n",
    "                                 {'kernel': ['linear'], 'C': [.1, 1, 10]},\n",
    "                                 {'kernel': ['poly'], 'degree' : [2,3,4,5], 'C': [.1, 1, 10]}]\n",
    "clf_svc = GridSearchCV(svc, param_grid = param_grid, cv=5, verbose=True, n_jobs=-1)\n",
    "best_clf_svc = clf_svc.fit(X_train_scaled,y_train)\n",
    "clf_performance(best_clf_svc, 'SVC')"
   ]
  },
  {
   "cell_type": "markdown",
   "id": "bca07c5e",
   "metadata": {
    "papermill": {
     "duration": 0.023259,
     "end_time": "2024-06-05T07:39:04.590999",
     "exception": false,
     "start_time": "2024-06-05T07:39:04.567740",
     "status": "completed"
    },
    "tags": []
   },
   "source": [
    "# Model Ensembles"
   ]
  },
  {
   "cell_type": "code",
   "execution_count": 41,
   "id": "8a7ecb33",
   "metadata": {
    "execution": {
     "iopub.execute_input": "2024-06-05T07:39:04.641097Z",
     "iopub.status.busy": "2024-06-05T07:39:04.640420Z",
     "iopub.status.idle": "2024-06-05T07:39:13.916063Z",
     "shell.execute_reply": "2024-06-05T07:39:13.915209Z"
    },
    "papermill": {
     "duration": 9.302392,
     "end_time": "2024-06-05T07:39:13.918187",
     "exception": false,
     "start_time": "2024-06-05T07:39:04.615795",
     "status": "completed"
    },
    "tags": []
   },
   "outputs": [
    {
     "name": "stdout",
     "output_type": "stream",
     "text": [
      "voting_clf_hard : [0.78651685 0.82022472 0.81460674 0.79775281 0.85310734]\n",
      "voting_clf_hard mean : 0.8144416936456548\n",
      "voting_clf_soft : [0.80898876 0.8258427  0.83146067 0.78089888 0.85875706]\n",
      "voting_clf_soft mean : 0.8211896146765696\n"
     ]
    }
   ],
   "source": [
    "from sklearn.ensemble import VotingClassifier\n",
    "best_lr = best_clf_lr.best_estimator_\n",
    "best_knn = best_clf_knn.best_estimator_\n",
    "best_svc = best_clf_svc.best_estimator_\n",
    "\n",
    "hard_clf = VotingClassifier(estimators = [('lr', best_lr), ('knn', best_knn), ('svc',best_svc), ('xgboost', xgb), ('random_forest', rf)], voting='hard')\n",
    "soft_clf = VotingClassifier(estimators = [('lr', best_lr), ('knn', best_knn), ('svc',best_svc), ('xgboost', xgb), ('random_forest', rf)], voting='soft')\n",
    "\n",
    "print('voting_clf_hard :',cross_val_score(hard_clf,X_train,y_train,cv=5))\n",
    "print('voting_clf_hard mean :',cross_val_score(hard_clf,X_train,y_train,cv=5).mean())\n",
    "\n",
    "print('voting_clf_soft :',cross_val_score(soft_clf,X_train,y_train,cv=5))\n",
    "print('voting_clf_soft mean :',cross_val_score(soft_clf,X_train,y_train,cv=5).mean())"
   ]
  },
  {
   "cell_type": "code",
   "execution_count": 42,
   "id": "c3d5a961",
   "metadata": {
    "execution": {
     "iopub.execute_input": "2024-06-05T07:39:13.968110Z",
     "iopub.status.busy": "2024-06-05T07:39:13.967734Z",
     "iopub.status.idle": "2024-06-05T07:39:14.999007Z",
     "shell.execute_reply": "2024-06-05T07:39:14.998045Z"
    },
    "papermill": {
     "duration": 1.059154,
     "end_time": "2024-06-05T07:39:15.001549",
     "exception": false,
     "start_time": "2024-06-05T07:39:13.942395",
     "status": "completed"
    },
    "tags": []
   },
   "outputs": [],
   "source": [
    "# Fitting the dataset\n",
    "hard_clf.fit(X_train_scaled, y_train)\n",
    "soft_clf.fit(X_train_scaled, y_train)\n",
    "yhat_hard_clf = hard_clf.predict(X_test_scaled).astype(int)\n",
    "yhat_soft_clf = soft_clf.predict(X_test_scaled).astype(int)"
   ]
  },
  {
   "cell_type": "code",
   "execution_count": 43,
   "id": "9214a445",
   "metadata": {
    "execution": {
     "iopub.execute_input": "2024-06-05T07:39:15.052743Z",
     "iopub.status.busy": "2024-06-05T07:39:15.052336Z",
     "iopub.status.idle": "2024-06-05T07:39:15.062537Z",
     "shell.execute_reply": "2024-06-05T07:39:15.061792Z"
    },
    "papermill": {
     "duration": 0.038347,
     "end_time": "2024-06-05T07:39:15.064607",
     "exception": false,
     "start_time": "2024-06-05T07:39:15.026260",
     "status": "completed"
    },
    "tags": []
   },
   "outputs": [],
   "source": [
    "# Converting the output to the dataframe\n",
    "final_data = {'PassengerId': test.PassengerId, 'Survived': yhat_hard_clf}\n",
    "submission1 = pd.DataFrame(data=final_data)\n",
    "final_data = {'PassengerId': test.PassengerId, 'Survived': yhat_soft_clf}\n",
    "submission2 = pd.DataFrame(final_data)\n",
    "\n",
    "submission1.to_csv('ensemble_submission1.csv', index=False)\n",
    "submission2.to_csv('ensemble_submission2.csv', index=False)"
   ]
  },
  {
   "cell_type": "code",
   "execution_count": null,
   "id": "7966963f",
   "metadata": {
    "papermill": {
     "duration": 0.023726,
     "end_time": "2024-06-05T07:39:15.112971",
     "exception": false,
     "start_time": "2024-06-05T07:39:15.089245",
     "status": "completed"
    },
    "tags": []
   },
   "outputs": [],
   "source": []
  }
 ],
 "metadata": {
  "kaggle": {
   "accelerator": "none",
   "dataSources": [
    {
     "databundleVersionId": 26502,
     "sourceId": 3136,
     "sourceType": "competition"
    }
   ],
   "dockerImageVersionId": 30715,
   "isGpuEnabled": false,
   "isInternetEnabled": true,
   "language": "python",
   "sourceType": "notebook"
  },
  "kernelspec": {
   "display_name": "Python 3",
   "language": "python",
   "name": "python3"
  },
  "language_info": {
   "codemirror_mode": {
    "name": "ipython",
    "version": 3
   },
   "file_extension": ".py",
   "mimetype": "text/x-python",
   "name": "python",
   "nbconvert_exporter": "python",
   "pygments_lexer": "ipython3",
   "version": "3.10.13"
  },
  "papermill": {
   "default_parameters": {},
   "duration": 60.159471,
   "end_time": "2024-06-05T07:39:17.756973",
   "environment_variables": {},
   "exception": null,
   "input_path": "__notebook__.ipynb",
   "output_path": "__notebook__.ipynb",
   "parameters": {},
   "start_time": "2024-06-05T07:38:17.597502",
   "version": "2.5.0"
  }
 },
 "nbformat": 4,
 "nbformat_minor": 5
}
