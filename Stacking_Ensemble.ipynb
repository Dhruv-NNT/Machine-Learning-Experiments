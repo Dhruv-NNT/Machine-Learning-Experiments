{
  "nbformat": 4,
  "nbformat_minor": 0,
  "metadata": {
    "colab": {
      "provenance": [],
      "gpuType": "T4"
    },
    "kernelspec": {
      "name": "python3",
      "display_name": "Python 3"
    },
    "language_info": {
      "name": "python"
    },
    "accelerator": "GPU"
  },
  "cells": [
    {
      "cell_type": "code",
      "execution_count": null,
      "metadata": {
        "colab": {
          "base_uri": "https://localhost:8080/"
        },
        "id": "J05QQYXvhpQ3",
        "outputId": "983ee2cf-54c8-4f91-c847-91e7c6ce7cd2"
      },
      "outputs": [
        {
          "output_type": "stream",
          "name": "stdout",
          "text": [
            "Validation Set Accuracy: 0.9625\n",
            "Test Set Accuracy: 0.945\n",
            "[0.955 0.95  0.925 0.95  0.965]\n"
          ]
        }
      ],
      "source": [
        "import numpy as np\n",
        "from sklearn.model_selection import train_test_split, cross_val_score, StratifiedKFold\n",
        "from sklearn.datasets import make_classification\n",
        "from sklearn.ensemble import StackingClassifier\n",
        "from sklearn.ensemble import RandomForestClassifier\n",
        "from sklearn.neighbors import KNeighborsClassifier\n",
        "from sklearn.svm import SVC\n",
        "from sklearn.linear_model import LogisticRegression\n",
        "from sklearn.metrics import accuracy_score\n",
        "\n",
        "#Creating a synthetic dataset for demonstration\n",
        "X,y = make_classification(n_samples=1000, n_features=20, n_informative=10, n_clusters_per_class = 2, random_state=42)\n",
        "#Spliting the dataset into training and testing sets\n",
        "X_train, X_test, y_train, y_test = train_test_split(X,y,test_size = 0.2, random_state=42)\n",
        "#Spiliting the dataset into training and validation sets\n",
        "X_train, X_val, y_train, y_val = train_test_split(X_train, y_train, test_size=0.2, random_state=42)\n",
        "\n",
        "#Defining Base Models\n",
        "base_models = [\n",
        "    ('random_forest', RandomForestClassifier(n_estimators=100, random_state=42)),\n",
        "    ('svm', SVC(kernel='linear', probability=True, random_state=42)),\n",
        "    ('knn', KNeighborsClassifier(n_neighbors=3))\n",
        "]\n",
        "\n",
        "#Define the meta model\n",
        "meta_model = LogisticRegression()\n",
        "\n",
        "#Create stacking ensemble\n",
        "stacking_ensemble = StackingClassifier(estimators=base_models, final_estimator=meta_model, cv=5)\n",
        "\n",
        "#Train the stacking ensemble on validation set\n",
        "stacking_ensemble.fit(X_train, y_train)\n",
        "\n",
        "#Make predictions on the validation set\n",
        "y_val_pred = stacking_ensemble.predict(X_val)\n",
        "#Evaluate accuracy on the validation set\n",
        "accuracy_val = accuracy_score(y_val, y_val_pred)\n",
        "print(f\"Validation Set Accuracy: {accuracy_val}\")\n",
        "\n",
        "#Make predictions on the test set\n",
        "y_pred_test = stacking_ensemble.predict(X_test)\n",
        "#Evlautae the accuracy on the test set\n",
        "accuracy_test = accuracy_score(y_test, y_pred_test)\n",
        "print(f\"Test Set Accuracy: {accuracy_test}\")\n",
        "\n",
        "# Use a k-fold crss-validation for a more robust estimate of the model's performance\n",
        "cv = StratifiedKFold(n_splits=5, shuffle=True, random_state=42)\n",
        "cv_scores = cross_val_score(stacking_ensemble, X, y, cv=cv)\n",
        "\n",
        "print(cv_scores)"
      ]
    },
    {
      "cell_type": "code",
      "source": [],
      "metadata": {
        "id": "gb9dJxNwoU5e"
      },
      "execution_count": null,
      "outputs": []
    }
  ]
}